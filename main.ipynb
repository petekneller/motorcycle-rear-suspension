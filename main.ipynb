{
 "cells": [
  {
   "cell_type": "markdown",
   "metadata": {},
   "source": [
    "### Overview Diagram "
   ]
  },
  {
   "cell_type": "code",
   "execution_count": 65,
   "metadata": {
    "hide_input": true,
    "scrolled": true
   },
   "outputs": [
    {
     "data": {
      "image/svg+xml": [
       "<svg height=\"400px\" viewBox=\"0 0 500 600\" xmlns=\"http://www.w3.org/2000/svg\" xmlns:xlink=\"http://www.w3.org/1999/xlink\">\n",
       "  <defs>\n",
       "    <circle cx=\"5\" cy=\"5\" fill=\"lightslategrey\" id=\"pivot\" r=\"5\" stroke=\"black\"/>\n",
       "    <g id=\"mount\">\n",
       "      <rect fill=\"whitesmoke\" height=\"30\" stroke=\"black\" width=\"30\"/>\n",
       "      <use x=\"10\" xlink:href=\"#pivot\" y=\"10\"/>\n",
       "    </g>\n",
       "    <g id=\"swingarm\">\n",
       "      <g transform=\"rotate(15,15,15)\">\n",
       "        <circle cx=\"490\" cy=\"10\" fill=\"none\" r=\"200\" stroke=\"black\"/>\n",
       "        <rect fill=\"lightsteelblue\" height=\"50\" stroke=\"black\" width=\"20\" x=\"100\" y=\"-30\"/>\n",
       "        <rect fill=\"lightsteelblue\" height=\"20\" stroke=\"black\" width=\"500\" x=\"0\" y=\"0\"/>\n",
       "        <use x=\"5\" xlink:href=\"#pivot\" y=\"5\"/>\n",
       "        <use x=\"485\" xlink:href=\"#pivot\" y=\"5\"/>\n",
       "        <use x=\"105\" xlink:href=\"#pivot\" y=\"-25\"/>\n",
       "      </g>\n",
       "    </g>\n",
       "    <g id=\"shock\">\n",
       "      <rect height=\"10\" width=\"300\" y=\"10\"/>\n",
       "      <rect height=\"30\" width=\"200\"/>\n",
       "    </g>\n",
       "  </defs>\n",
       "  <use x=\"100\" xlink:href=\"#mount\" y=\"50\"/>\n",
       "  <use x=\"45\" xlink:href=\"#mount\" y=\"295\"/>\n",
       "  <use x=\"50\" xlink:href=\"#swingarm\" y=\"300\"/>\n",
       "  <use transform=\"translate(125,60) rotate(80) scale(0.65) translate(50,0)\" xlink:href=\"#shock\"/>\n",
       "</svg>"
      ],
      "text/plain": [
       "<IPython.core.display.SVG object>"
      ]
     },
     "execution_count": 65,
     "metadata": {},
     "output_type": "execute_result"
    }
   ],
   "source": [
    "from string import Template\n",
    "s = Template(\"\"\"<?xml version=\"1.0\"?>\n",
    "<svg xmlns=\"http://www.w3.org/2000/svg\" xmlns:xlink=\"http://www.w3.org/1999/xlink\" viewBox=\"0 0 500 600\" height=\"400px\">\n",
    "  <defs>\n",
    "    <circle id=\"pivot\" r=\"5\" cx=\"5\" cy=\"5\" stroke=\"black\" fill=\"lightslategrey\" />\n",
    "    <g id=\"mount\">\n",
    "      <rect height=\"30\" width=\"30\" stroke=\"black\" fill=\"whitesmoke\" />\n",
    "      <use xlink:href=\"#pivot\" x=\"10\" y=\"10\" />\n",
    "    </g>\n",
    "    <g id=\"swingarm\">\n",
    "      <g transform=\"rotate(15,15,15)\">\n",
    "        <circle r=\"200\" cx=\"490\" cy=\"10\" stroke=\"black\" fill=\"none\" />\n",
    "        <rect x=\"100\" y=\"-30\" width=\"20\" height=\"50\" stroke=\"black\" fill=\"lightsteelblue\" />\n",
    "        <rect x=\"0\" y=\"0\" width=\"500\" height=\"20\" stroke=\"black\" fill=\"lightsteelblue\" />\n",
    "        <use xlink:href=\"#pivot\" x=\"5\" y=\"5\" />\n",
    "        <use xlink:href=\"#pivot\" x=\"485\" y=\"5\" />\n",
    "        <use xlink:href=\"#pivot\" x=\"105\" y=\"-25\" />\n",
    "      </g>\n",
    "    </g>\n",
    "    <g id=\"shock\">\n",
    "      <rect height=\"10\" width=\"300\" y=\"10\" />\n",
    "      <rect height=\"30\" width=\"200\" />\n",
    "    </g>\n",
    "  </defs>\n",
    "  <use xlink:href=\"#mount\" x=\"100\" y=\"50\" />\n",
    "  <use xlink:href=\"#mount\" x=\"45\" y=\"295\" />\n",
    "  <use xlink:href=\"#swingarm\" x=\"50\" y=\"300\" />\n",
    "  <use xlink:href=\"#shock\" transform=\"translate(125,60) rotate(80) scale(0.65) translate(50,0)\" />\n",
    "</svg>\n",
    "\"\"\")\n",
    "\n",
    "from IPython.display import SVG\n",
    "SVG(data=s.substitute())"
   ]
  },
  {
   "cell_type": "code",
   "execution_count": null,
   "metadata": {},
   "outputs": [],
   "source": []
  }
 ],
 "metadata": {
  "kernelspec": {
   "display_name": "Python 2",
   "language": "python",
   "name": "python2"
  },
  "language_info": {
   "codemirror_mode": {
    "name": "ipython",
    "version": 2
   },
   "file_extension": ".py",
   "mimetype": "text/x-python",
   "name": "python",
   "nbconvert_exporter": "python",
   "pygments_lexer": "ipython2",
   "version": "2.7.12"
  }
 },
 "nbformat": 4,
 "nbformat_minor": 2
}
