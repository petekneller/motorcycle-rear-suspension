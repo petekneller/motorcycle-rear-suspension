{
 "cells": [
  {
   "cell_type": "markdown",
   "metadata": {},
   "source": [
    "### Problem overview"
   ]
  },
  {
   "cell_type": "code",
   "execution_count": 49,
   "metadata": {
    "hide_input": true
   },
   "outputs": [
    {
     "data": {
      "image/svg+xml": [
       "<svg height=\"0\" width=\"0\" xmlns=\"http://www.w3.org/2000/svg\">\n",
       "  <defs>\n",
       "    <circle cx=\"5\" cy=\"5\" fill=\"lightslategrey\" id=\"pivot\" r=\"5\" stroke=\"black\"/>\n",
       "    <g id=\"mount\">\n",
       "      <rect fill=\"whitesmoke\" height=\"30\" stroke=\"black\" width=\"30\"/>\n",
       "      <use href=\"#pivot\" x=\"10\" y=\"10\"/>\n",
       "    </g>\n",
       "    <g id=\"upperShockMount\">\n",
       "      <use href=\"#mount\" x=\"100\" y=\"50\"/>\n",
       "    </g>\n",
       "    <g id=\"swingarm\">\n",
       "      <g transform=\"translate(50,300)\">\n",
       "          <use href=\"#mount\" x=\"-5\" y=\"-5\"/>\n",
       "          <g transform=\"rotate(15,15,15)\">\n",
       "              <circle cx=\"490\" cy=\"10\" fill=\"none\" r=\"200\" stroke=\"black\"/>\n",
       "              <rect fill=\"lightsteelblue\" height=\"50\" stroke=\"black\" width=\"20\" x=\"100\" y=\"-30\"/>\n",
       "              <rect fill=\"lightsteelblue\" height=\"20\" stroke=\"black\" width=\"500\" x=\"0\" y=\"0\"/>\n",
       "              <use href=\"#pivot\" x=\"5\" y=\"5\"/>\n",
       "              <use href=\"#pivot\" x=\"485\" y=\"5\"/>\n",
       "              <use href=\"#pivot\" x=\"105\" y=\"-25\"/>\n",
       "              <g>\n",
       "                <line style=\"stroke:black;\" x1=\"5\" x2=\"5\" y1=\"25\" y2=\"50\"/>\n",
       "                <line style=\"stroke:black;\" x1=\"105\" x2=\"105\" y1=\"25\" y2=\"50\"/>\n",
       "                <line style=\"stroke:black;\" x1=\"5\" x2=\"105\" y1=\"40\" y2=\"40\"/>\n",
       "                <use href=\"#dc\" x=\"40\" y=\"60\"/> <!-- forward ref; not defined until later -->\n",
       "                <line style=\"stroke:black;\" x1=\"125\" x2=\"150\" y1=\"10\" y2=\"10\"/>\n",
       "                <line style=\"stroke:black;\" x1=\"125\" x2=\"150\" y1=\"-20\" y2=\"-20\"/>\n",
       "                <line style=\"stroke:black;\" x1=\"140\" x2=\"140\" y1=\"10\" y2=\"-20\"/>\n",
       "                <use href=\"#db\" transform=\"translate(165,5) rotate(-90)\"/> <!-- forward ref; not defined until later -->\n",
       "                <g transform=\"translate(5,-10) rotate(-15)\">\n",
       "                    <line style=\"stroke:black;\" x1=\"0\" x2=\"0\" y1=\"0\" y2=\"-25\"/>\n",
       "                    <line style=\"stroke:black;\" x1=\"100\" x2=\"100\" y1=\"0\" y2=\"-25\"/>\n",
       "                    <line style=\"stroke:black;\" x1=\"0\" x2=\"100\" y1=\"-15\" y2=\"-15\"/>\n",
       "                    <use href=\"#da\" x=\"40\" y=\"-20\"/> <!-- forward ref; not defined until later -->\n",
       "                </g>\n",
       "              </g>\n",
       "          </g>\n",
       "        </g>\n",
       "    </g>\n",
       "    <g id=\"shock\">\n",
       "      <g transform=\"translate(125,60) rotate(80) scale(0.65) translate(50,0)\">\n",
       "          <rect height=\"10\" width=\"300\" y=\"10\"/>\n",
       "          <rect height=\"30\" width=\"200\"/>\n",
       "      </g>\n",
       "    </g>\n",
       "    <g id=\"everything\">\n",
       "      <use href=\"#swingarm\"/>\n",
       "      <use href=\"#upperShockMount\"/>\n",
       "      <use href=\"#shock\"/>\n",
       "    </g>\n",
       "  </defs>\n",
       "</svg>"
      ],
      "text/plain": [
       "<IPython.core.display.SVG object>"
      ]
     },
     "metadata": {},
     "output_type": "display_data"
    }
   ],
   "source": [
    "%%svg\n",
    "<svg xmlns=\"http://www.w3.org/2000/svg\" height=\"0\" width=\"0\">\n",
    "  <defs>\n",
    "    <circle id=\"pivot\" r=\"5\" cx=\"5\" cy=\"5\" stroke=\"black\" fill=\"lightslategrey\" />\n",
    "    <g id=\"mount\">\n",
    "      <rect height=\"30\" width=\"30\" stroke=\"black\" fill=\"whitesmoke\" />\n",
    "      <use href=\"#pivot\" x=\"10\" y=\"10\" />\n",
    "    </g>\n",
    "    <g id=\"upperShockMount\">\n",
    "      <use href=\"#mount\" x=\"100\" y=\"50\" />\n",
    "    </g>\n",
    "    <g id=\"swingarm\">\n",
    "      <g transform=\"translate(50,300)\">\n",
    "          <use href=\"#mount\" x=\"-5\" y=\"-5\" />\n",
    "          <g transform=\"rotate(15,15,15)\">\n",
    "              <circle r=\"200\" cx=\"490\" cy=\"10\" stroke=\"black\" fill=\"none\" />\n",
    "              <rect x=\"100\" y=\"-30\" width=\"20\" height=\"50\" stroke=\"black\" fill=\"lightsteelblue\" />\n",
    "              <rect x=\"0\" y=\"0\" width=\"500\" height=\"20\" stroke=\"black\" fill=\"lightsteelblue\" />\n",
    "              <use href=\"#pivot\" x=\"5\" y=\"5\" />\n",
    "              <use href=\"#pivot\" x=\"485\" y=\"5\" />\n",
    "              <use href=\"#pivot\" x=\"105\" y=\"-25\" />\n",
    "              <g>\n",
    "                <line x1=\"5\" y1=\"25\" x2=\"5\" y2=\"50\" style=\"stroke:black;\" />\n",
    "                <line x1=\"105\" y1=\"25\" x2=\"105\" y2=\"50\" style=\"stroke:black;\" />\n",
    "                <line x1=\"5\" y1=\"40\" x2=\"105\" y2=\"40\" style=\"stroke:black;\" />\n",
    "                <use href=\"#dc\" x=\"40\" y=\"60\" /> <!-- forward ref; not defined until later -->\n",
    "                <line x1=\"125\" y1=\"10\" x2=\"150\" y2=\"10\" style=\"stroke:black;\" />\n",
    "                <line x1=\"125\" y1=\"-20\" x2=\"150\" y2=\"-20\" style=\"stroke:black;\" />\n",
    "                <line x1=\"140\" y1=\"10\" x2=\"140\" y2=\"-20\" style=\"stroke:black;\" />\n",
    "                <use href=\"#db\" transform=\"translate(165,5) rotate(-90)\" /> <!-- forward ref; not defined until later -->\n",
    "                <g transform=\"translate(5,-10) rotate(-15)\">\n",
    "                    <line x1=\"0\" y1=\"0\" x2=\"0\" y2=\"-25\" style=\"stroke:black;\" />\n",
    "                    <line x1=\"100\" y1=\"0\" x2=\"100\" y2=\"-25\" style=\"stroke:black;\" />\n",
    "                    <line x1=\"0\" y1=\"-15\" x2=\"100\" y2=\"-15\" style=\"stroke:black;\" />\n",
    "                    <use href=\"#da\" x=\"40\" y=\"-20\" /> <!-- forward ref; not defined until later -->\n",
    "                </g>\n",
    "              </g>\n",
    "          </g>\n",
    "        </g>\n",
    "    </g>\n",
    "    <g id=\"shock\">\n",
    "      <g transform=\"translate(125,60) rotate(80) scale(0.65) translate(50,0)\">\n",
    "          <rect height=\"10\" width=\"300\" y=\"10\" />\n",
    "          <rect height=\"30\" width=\"200\" />\n",
    "      </g>\n",
    "    </g>\n",
    "    <g id=\"everything\">\n",
    "      <use href=\"#swingarm\" />\n",
    "      <use href=\"#upperShockMount\" />\n",
    "      <use href=\"#shock\"/>\n",
    "    </g>\n",
    "  </defs>\n",
    "</svg>"
   ]
  },
  {
   "cell_type": "code",
   "execution_count": 50,
   "metadata": {
    "hide_input": true,
    "scrolled": false
   },
   "outputs": [
    {
     "data": {
      "image/svg+xml": [
       "<svg height=\"400px\" viewBox=\"0 0 500 600\" xmlns=\"http://www.w3.org/2000/svg\">\n",
       "  <defs>\n",
       "    <text fill=\"black\" id=\"dc\">foo!</text>\n",
       "    <text fill=\"black\" id=\"da\">blah!</text>\n",
       "    <text fill=\"black\" id=\"db\">bar!</text>\n",
       "  </defs>\n",
       "  <use href=\"#everything\"/>\n",
       "</svg>"
      ],
      "text/plain": [
       "<IPython.core.display.SVG object>"
      ]
     },
     "execution_count": 50,
     "metadata": {},
     "output_type": "execute_result"
    }
   ],
   "source": [
    "from string import Template\n",
    "s = Template(\"\"\"\n",
    "<svg xmlns=\"http://www.w3.org/2000/svg\" viewBox=\"0 0 500 600\" height=\"400px\">\n",
    "  <defs>\n",
    "    <text id=\"dc\" fill=\"black\">foo!</text>\n",
    "    <text id=\"da\" fill=\"black\">blah!</text>\n",
    "    <text id=\"db\" fill=\"black\">bar!</text>\n",
    "  </defs>\n",
    "  <use href=\"#everything\"/>\n",
    "</svg>\n",
    "\"\"\")\n",
    "\n",
    "from IPython.display import SVG\n",
    "SVG(data=s.substitute())"
   ]
  },
  {
   "cell_type": "code",
   "execution_count": 51,
   "metadata": {
    "hide_input": true
   },
   "outputs": [],
   "source": [
    "# useful constants\n",
    "pi_deg = 180.0 / math.pi\n",
    "\n",
    "# known dimensions\n",
    "# lengths are millimeters, angles are radians\n",
    "d_y_pivot1_rest = 300.0 # height of front swingarm pivot at rest (full extension)\n",
    "d_y_axle = 200.0 # height of rear axle above ground\n",
    "l_pivot1_axle = 430.0 # length of swingarm between front pivot and axle\n",
    "d_y_swingarm_pivot2 = 50.0 # distance between the swingarm centre-line and the swingarm shock pivot\n",
    "d_x_swingarm_pivot2 = 100.0 # distance along the swingarm centre-line between swingarm pivot and shock pivot\n",
    "d_pivot1_pivot3 = 250.0 # distance between swingarm pivot and upper shock mount\n",
    "d_pivot2_pivot3_rest = 270.0 # distance between upper and lower shock mounts at full extension"
   ]
  },
  {
   "cell_type": "code",
   "execution_count": 52,
   "metadata": {
    "hide_input": true
   },
   "outputs": [],
   "source": [
    "%matplotlib inline"
   ]
  },
  {
   "cell_type": "markdown",
   "metadata": {
    "hide_input": false
   },
   "source": [
    "### Wheel and swingarm motion"
   ]
  },
  {
   "cell_type": "code",
   "execution_count": 53,
   "metadata": {
    "hide_input": true
   },
   "outputs": [
    {
     "data": {
      "image/png": "[encoded data removed]",
      "text/plain": [
       "<matplotlib.figure.Figure at 0x7f8d7d872fd0>"
      ]
     },
     "metadata": {},
     "output_type": "display_data"
    },
    {
     "data": {
      "image/png": "[encoded data removed]",
      "text/plain": [
       "<matplotlib.figure.Figure at 0x7f8d7d624310>"
      ]
     },
     "metadata": {},
     "output_type": "display_data"
    }
   ],
   "source": [
    "import matplotlib.pyplot as plt\n",
    "from math import asin, pi\n",
    "def wheelBumpToSwingarmAngleAbs(bump):\n",
    "    return asin(((bump + d_y_axle) - d_y_pivot1_rest) / l_pivot1_axle)\n",
    "\n",
    "a_swingarm_horz_rest = wheelBumpToSwingarmAngleAbs(0) # angle of swingarm relative to horizon at full extension\n",
    "\n",
    "def wheelBumpToSwingarmDeflection(bump):\n",
    "    return wheelBumpToSwingarmAngleAbs(bump) - a_swingarm_horz_rest\n",
    "\n",
    "bumps = xrange(0,300)\n",
    "\n",
    "plt.plot(bumps, [wheelBumpToSwingarmAngleAbs(b) * pi_deg for b in bumps])\n",
    "plt.xlabel('Wheel bump (from rest, mm)')\n",
    "plt.ylabel('Swingarm angle (from horizontal, degrees)')\n",
    "\n",
    "deflections = [wheelBumpToSwingarmDeflection(b) for b in bumps]\n",
    "\n",
    "plt.figure()\n",
    "plt.plot(bumps, [d * pi_deg for d in deflections])\n",
    "plt.xlabel('Wheel bump (from rest, mm)')\n",
    "plt.ylabel('Swingarm deflection (degrees)');"
   ]
  },
  {
   "cell_type": "markdown",
   "metadata": {},
   "source": [
    "### Pivot geometry"
   ]
  },
  {
   "cell_type": "code",
   "execution_count": 54,
   "metadata": {
    "hide_input": true
   },
   "outputs": [
    {
     "data": {
      "image/svg+xml": [
       "<svg height=\"400px\" viewBox=\"0 0 250 300\" xmlns=\"http://www.w3.org/2000/svg\">\n",
       "  <use href=\"#swingarm\" x=\"-75\" y=\"-150\"/>\n",
       "</svg>"
      ],
      "text/plain": [
       "<IPython.core.display.SVG object>"
      ]
     },
     "execution_count": 54,
     "metadata": {},
     "output_type": "execute_result"
    }
   ],
   "source": [
    "from string import Template\n",
    "s = Template(\"\"\"\n",
    "<svg xmlns=\"http://www.w3.org/2000/svg\" viewBox=\"0 0 250 300\" height=\"400px\">\n",
    "  <use href=\"#swingarm\" x=\"-75\" y=\"-150\" />\n",
    "</svg>\n",
    "\"\"\")\n",
    "\n",
    "from IPython.display import SVG\n",
    "SVG(data=s.substitute())"
   ]
  },
  {
   "cell_type": "code",
   "execution_count": 55,
   "metadata": {
    "hide_input": true
   },
   "outputs": [
    {
     "data": {
      "text/plain": [
       "'Included angle between swingarm centre-line and shock mount on swingarm - 26.5650511771 degrees'"
      ]
     },
     "execution_count": 55,
     "metadata": {},
     "output_type": "execute_result"
    }
   ],
   "source": [
    "a_swingarm_pivot2 = math.atan(d_y_swingarm_pivot2 / d_x_swingarm_pivot2)\n",
    "'Included angle between swingarm centre-line and shock mount on swingarm - {} degrees'.format(a_swingarm_pivot2 * pi_deg)"
   ]
  },
  {
   "cell_type": "code",
   "execution_count": 56,
   "metadata": {
    "hide_input": true
   },
   "outputs": [
    {
     "data": {
      "text/plain": [
       "'Included angle between upper and lower shock mounts at rest - 87.8471235095 degrees'"
      ]
     },
     "execution_count": 56,
     "metadata": {},
     "output_type": "execute_result"
    }
   ],
   "source": [
    "d_pivot1_pivot2 = math.sqrt(d_x_swingarm_pivot2**2 + d_y_swingarm_pivot2**2)\n",
    "\n",
    "def includedAngleMountsResting():\n",
    "    a = d_pivot2_pivot3_rest\n",
    "    b = d_pivot1_pivot3\n",
    "    c = d_pivot1_pivot2\n",
    "    alpha = math.acos(((b**2) + (c**2) - (a**2)) / (2*b*c))\n",
    "    return alpha\n",
    "\n",
    "a_pivot2_pivot3_rest = includedAngleMountsResting()\n",
    "'Included angle between upper and lower shock mounts at rest - {} degrees'.format(a_pivot2_pivot3_rest * pi_deg)"
   ]
  },
  {
   "cell_type": "markdown",
   "metadata": {},
   "source": [
    "### Wheel and shock motion"
   ]
  },
  {
   "cell_type": "code",
   "execution_count": 57,
   "metadata": {
    "hide_input": true
   },
   "outputs": [
    {
     "data": {
      "image/png": "[encoded data removed]",
      "text/plain": [
       "<matplotlib.figure.Figure at 0x7f8d7da1a950>"
      ]
     },
     "metadata": {},
     "output_type": "display_data"
    }
   ],
   "source": [
    "import matplotlib.pyplot as plt\n",
    "def distanceBetweenMounts(includedAngle):\n",
    "    b = d_pivot1_pivot3\n",
    "    c = d_pivot1_pivot2\n",
    "    alpha = includedAngle\n",
    "    a = math.sqrt((b**2) + (c**2) - (2*b*c * math.cos(alpha)))\n",
    "    return a\n",
    "\n",
    "plt.plot(bumps, [d_pivot2_pivot3_rest - distanceBetweenMounts(a_pivot2_pivot3_rest - d) for d in deflections]);\n",
    "plt.xlabel('Wheel bump (from rest, mm)')\n",
    "plt.ylabel('Shock compression (mm)');"
   ]
  }
 ],
 "metadata": {
  "kernelspec": {
   "display_name": "Python 2",
   "language": "python",
   "name": "python2"
  },
  "language_info": {
   "codemirror_mode": {
    "name": "ipython",
    "version": 2
   },
   "file_extension": ".py",
   "mimetype": "text/x-python",
   "name": "python",
   "nbconvert_exporter": "python",
   "pygments_lexer": "ipython2",
   "version": "2.7.12"
  }
 },
 "nbformat": 4,
 "nbformat_minor": 2
}
