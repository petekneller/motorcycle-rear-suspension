{
 "cells": [
  {
   "cell_type": "markdown",
   "metadata": {},
   "source": [
    "# Problem overview\n",
    "\n",
    "Consider the following sketch - the monoshock, non-linkage rear suspension of a motorcycle. I'd like to know what the mathematical relationship is between the movement of the rear wheel in a vertical direction (ie. that which the rider is going to feel) and the force exerted upon the spring. It's not going to be linear since the wheel travels in an arc but the spring acts linearly. It will be close to linear for a small region around the point where the swingarm is moving perpendicular to the spring. It's not rocket science and the answer might not actually be that interesting, but I'm curious."
   ]
  },
  {
   "cell_type": "code",
   "execution_count": 117,
   "metadata": {
    "hide_input": false
   },
   "outputs": [
    {
     "data": {
      "image/svg+xml": [
       "<svg height=\"400px\" viewBox=\"0 0 500 600\" xmlns=\"http://www.w3.org/2000/svg\">\n",
       "  <defs>\n",
       "    \n",
       "    <circle cx=\"5\" cy=\"5\" fill=\"lightslategrey\" id=\"pivot\" r=\"5\" stroke=\"black\"/>\n",
       "    \n",
       "    <g id=\"mount\">\n",
       "      <rect fill=\"whitesmoke\" height=\"30\" stroke=\"black\" width=\"30\"/>\n",
       "      <use href=\"#pivot\" x=\"10\" y=\"10\"/>\n",
       "    </g>\n",
       "    \n",
       "    <g id=\"everything\" style=\"visibility:var(--vis-everything, hidden)\">\n",
       "        <!-- upper shock mount -->\n",
       "        <use href=\"#mount\" x=\"100\" y=\"50\"/>\n",
       "        \n",
       "        <!-- shock -->\n",
       "        <g transform=\"translate(125,60) rotate(80) scale(0.65) translate(50,0)\">\n",
       "            <rect height=\"10\" width=\"300\" y=\"10\"/>\n",
       "            <rect height=\"30\" width=\"200\"/>\n",
       "            \n",
       "            <g transform=\"translate(0, -10)\">\n",
       "                <g id=\"coil\" transform=\"rotate(-30)\">\n",
       "                    <circle cx=\"0\" cy=\"0\" fill=\"black\" r=\"5\" stroke=\"black\"/>\n",
       "                    <circle cx=\"0\" cy=\"60\" fill=\"black\" r=\"5\" stroke=\"black\"/>\n",
       "                    <rect height=\"60\" width=\"10\" x=\"-5\"/>\n",
       "                </g>\n",
       "                <use href=\"#coil\" x=\"40\"/>\n",
       "                <use href=\"#coil\" x=\"80\"/>\n",
       "                <use href=\"#coil\" x=\"120\"/>\n",
       "                <use href=\"#coil\" x=\"160\"/>\n",
       "                <use href=\"#coil\" x=\"200\"/>\n",
       "                <use href=\"#coil\" x=\"240\"/>\n",
       "            </g>\n",
       "        </g>\n",
       "\n",
       "        <g id=\"swingarm\" style=\"visibility:var(--vis-swingarm)\">\n",
       "          <g transform=\"translate(50,300)\">\n",
       "              <!-- swingarm pivot -->\n",
       "              <use href=\"#mount\" x=\"-5\" y=\"-5\"/>\n",
       "            \n",
       "              <g transform=\"rotate(15,15,15)\">\n",
       "                  <!-- wheel -->\n",
       "                  <circle cx=\"490\" cy=\"10\" fill=\"none\" r=\"200\" stroke=\"black\"/>\n",
       "\n",
       "                  <!-- arm and lower shock mount -->\n",
       "                  <g style=\"visibility:var(--vis-swingarm-mount)\">\n",
       "                    <rect fill=\"lightsteelblue\" height=\"50\" stroke=\"black\" width=\"20\" x=\"100\" y=\"-30\"/>\n",
       "                    <use href=\"#pivot\" x=\"105\" y=\"-25\"/>\n",
       "                  </g>  \n",
       "                  <rect fill=\"lightsteelblue\" height=\"20\" stroke=\"black\" width=\"500\" x=\"0\" y=\"0\"/>\n",
       "                  <use href=\"#pivot\" x=\"5\" y=\"5\"/>\n",
       "                  <use href=\"#pivot\" x=\"485\" y=\"5\"/>\n",
       "                  <!-- length marking on swingarm -->\n",
       "                  <g style=\"visibility:var(--vis-geo1, hidden)\">\n",
       "                    <line stroke=\"blue\" x1=\"10\" x2=\"10\" y1=\"40\" y2=\"60\"/>\n",
       "                    <line stroke=\"blue\" x1=\"490\" x2=\"490\" y1=\"40\" y2=\"60\"/>\n",
       "                    <line stroke=\"blue\" x1=\"10\" x2=\"490\" y1=\"50\" y2=\"50\"/>\n",
       "                    <!-- forward ref -->\n",
       "                    <use href=\"#dSwingarm\" stroke=\"blue\" x=\"250\" y=\"80\"/>\n",
       "                  </g>  \n",
       "                \n",
       "                  <!-- dimension markings on swingarm/shock geometry -->\n",
       "                  <g style=\"visibility:var(--vis-geo2, hidden)\">\n",
       "                    <line stroke=\"blue\" x1=\"5\" x2=\"5\" y1=\"25\" y2=\"50\"/>\n",
       "                    <line stroke=\"blue\" x1=\"105\" x2=\"105\" y1=\"25\" y2=\"50\"/>\n",
       "                    <line stroke=\"blue\" x1=\"5\" x2=\"105\" y1=\"40\" y2=\"40\"/>\n",
       "                    <g transform=\"translate(40, 60)\">\n",
       "                      <!-- forward ref; not defined until later -->\n",
       "                      <use href=\"#dc\" style=\"visibility:var(--vis-geo2-known, hidden)\"/>\n",
       "                      <text id=\"geoQuestionMark\" stroke=\"blue\" style=\"visibility:var(--vis-geo2-unknown, hidden)\" x=\"10\">?</text>\n",
       "                    </g>\n",
       "                    <line stroke=\"blue\" x1=\"125\" x2=\"150\" y1=\"10\" y2=\"10\"/>\n",
       "                    <line stroke=\"blue\" x1=\"125\" x2=\"150\" y1=\"-20\" y2=\"-20\"/>\n",
       "                    <line stroke=\"blue\" x1=\"140\" x2=\"140\" y1=\"10\" y2=\"-20\"/>\n",
       "                    <g transform=\"translate(165, 5) rotate(-90)\">\n",
       "                      <!-- forward ref; not defined until later -->\n",
       "                      <use href=\"#db\" style=\"visibility:var(--vis-geo2-known, hidden)\"/>\n",
       "                      <use href=\"#geoQuestionMark\"/>\n",
       "                    </g>\n",
       "                    <g transform=\"translate(5, -10) rotate(-15)\">\n",
       "                        <line stroke=\"blue\" x1=\"0\" x2=\"0\" y1=\"0\" y2=\"-25\"/>\n",
       "                        <line stroke=\"blue\" x1=\"100\" x2=\"100\" y1=\"0\" y2=\"-25\"/>\n",
       "                        <line stroke=\"blue\" x1=\"0\" x2=\"100\" y1=\"-15\" y2=\"-15\"/>\n",
       "                        <g transform=\"translate(40, -20)\">\n",
       "                          <!-- forward ref; not defined until later -->\n",
       "                          <use href=\"#da\" style=\"visibility:var(--vis-geo2-known, hidden)\"/>\n",
       "                          <use href=\"#geoQuestionMark\"/>\n",
       "                        </g>\n",
       "                    </g>\n",
       "                  </g> <!-- dimension markings -->\n",
       "              </g> <!-- rotation -->\n",
       "            \n",
       "            <!-- swingarm arc markings -->\n",
       "            <g style=\"visibility:var(--vis-swingarm-tri, hidden)\">\n",
       "              <line stroke=\"blue\" x1=\"10\" x2=\"475\" y1=\"10\" y2=\"10\"/>\n",
       "              <line stroke=\"blue\" x1=\"475\" x2=\"475\" y1=\"10\" y2=\"130\"/>\n",
       "              <rect fill=\"white\" height=\"30\" stroke=\"blue\" width=\"30\" x=\"445\" y=\"10\"/>\n",
       "              <line stroke=\"blue\" x1=\"485\" x2=\"505\" y1=\"10\" y2=\"10\"/>\n",
       "              <line stroke=\"blue\" x1=\"485\" x2=\"505\" y1=\"130\" y2=\"130\"/>\n",
       "              <line stroke=\"blue\" x1=\"495\" x2=\"495\" y1=\"10\" y2=\"130\"/>\n",
       "              <text stroke=\"blue\" transform=\"translate(520,90) rotate(-90)\">\n",
       "                d <tspan baseline-shift=\"sub\">y</tspan> \n",
       "              </text>\n",
       "            </g>\n",
       "            \n",
       "            </g> <!-- translation -->\n",
       "        \n",
       "        </g> <!-- swingarm -->\n",
       "        \n",
       "        <g id=\"bodywork\" style=\"visibility:var(--vis-bodywork)\">\n",
       "          <path d=\"M0 350 L70 350  L100 200  L250 50  L700 0\" fill=\"none\" stroke=\"black\"/>\n",
       "        </g>\n",
       "        \n",
       "    </g>\n",
       "    \n",
       "  </defs>\n",
       "\n",
       "  <!-- Diagram for description of the problem -->\n",
       "  <use href=\"#everything\" style=\"--vis-everything:visible;\"/>\n",
       "</svg>"
      ],
      "text/plain": [
       "<IPython.core.display.SVG object>"
      ]
     },
     "metadata": {},
     "output_type": "display_data"
    }
   ],
   "source": [
    "%%svg\n",
    "<!-- This the SVG diagram which is used for illustrating the problem and each of the steps -->\n",
    "\n",
    "<svg xmlns=\"http://www.w3.org/2000/svg\" viewBox=\"0 0 500 600\" height=\"400px\">\n",
    "  <defs>\n",
    "    \n",
    "    <circle id=\"pivot\" r=\"5\" cx=\"5\" cy=\"5\" stroke=\"black\" fill=\"lightslategrey\" />\n",
    "    \n",
    "    <g id=\"mount\">\n",
    "      <rect height=\"30\" width=\"30\" stroke=\"black\" fill=\"whitesmoke\" />\n",
    "      <use href=\"#pivot\" x=\"10\" y=\"10\" />\n",
    "    </g>\n",
    "    \n",
    "    <g id=\"everything\" style=\"visibility:var(--vis-everything, hidden)\">\n",
    "        <!-- upper shock mount -->\n",
    "        <use href=\"#mount\" x=\"100\" y=\"50\" />\n",
    "        \n",
    "        <!-- shock -->\n",
    "        <g transform=\"translate(125,60) rotate(80) scale(0.65) translate(50,0)\">\n",
    "            <rect height=\"10\" width=\"300\" y=\"10\" />\n",
    "            <rect height=\"30\" width=\"200\" />\n",
    "            \n",
    "            <g transform=\"translate(0, -10)\">\n",
    "                <g id=\"coil\" transform=\"rotate(-30)\">\n",
    "                    <circle r=\"5\" cx=\"0\" cy=\"0\" stroke=\"black\" fill=\"black\" />\n",
    "                    <circle r=\"5\" cx=\"0\" cy=\"60\" stroke=\"black\" fill=\"black\" />\n",
    "                    <rect height=\"60\" width=\"10\" x=\"-5\" />\n",
    "                </g>\n",
    "                <use href=\"#coil\" x=\"40\" />\n",
    "                <use href=\"#coil\" x=\"80\" />\n",
    "                <use href=\"#coil\" x=\"120\" />\n",
    "                <use href=\"#coil\" x=\"160\" />\n",
    "                <use href=\"#coil\" x=\"200\" />\n",
    "                <use href=\"#coil\" x=\"240\" />\n",
    "            </g>\n",
    "        </g>\n",
    "\n",
    "        <g id=\"swingarm\" style=\"visibility:var(--vis-swingarm)\" >\n",
    "          <g transform=\"translate(50,300)\" >\n",
    "              <!-- swingarm pivot -->\n",
    "              <use href=\"#mount\" x=\"-5\" y=\"-5\" />\n",
    "            \n",
    "              <g transform=\"rotate(15,15,15)\" >\n",
    "                  <!-- wheel -->\n",
    "                  <circle r=\"200\" cx=\"490\" cy=\"10\" stroke=\"black\" fill=\"none\" />\n",
    "\n",
    "                  <!-- arm and lower shock mount -->\n",
    "                  <g style=\"visibility:var(--vis-swingarm-mount)\">\n",
    "                    <rect x=\"100\" y=\"-30\" width=\"20\" height=\"50\" stroke=\"black\" fill=\"lightsteelblue\" />\n",
    "                    <use href=\"#pivot\" x=\"105\" y=\"-25\" />\n",
    "                  </g>  \n",
    "                  <rect x=\"0\" y=\"0\" width=\"500\" height=\"20\" stroke=\"black\" fill=\"lightsteelblue\" />\n",
    "                  <use href=\"#pivot\" x=\"5\" y=\"5\" />\n",
    "                  <use href=\"#pivot\" x=\"485\" y=\"5\" />\n",
    "                  <!-- length marking on swingarm -->\n",
    "                  <g style=\"visibility:var(--vis-geo1, hidden)\">\n",
    "                    <line x1=\"10\" y1=\"40\" x2=\"10\" y2=\"60\" stroke=\"blue\" />\n",
    "                    <line x1=\"490\" y1=\"40\" x2=\"490\" y2=\"60\" stroke=\"blue\" />\n",
    "                    <line x1=\"10\" y1=\"50\" x2=\"490\" y2=\"50\" stroke=\"blue\" />\n",
    "                    <!-- forward ref -->\n",
    "                    <use href=\"#dSwingarm\" x=\"250\" y=\"80\" stroke=\"blue\" />\n",
    "                  </g>  \n",
    "                \n",
    "                  <!-- dimension markings on swingarm/shock geometry -->\n",
    "                  <g style=\"visibility:var(--vis-geo2, hidden)\">\n",
    "                    <line x1=\"5\" y1=\"25\" x2=\"5\" y2=\"50\" stroke=\"blue\" />\n",
    "                    <line x1=\"105\" y1=\"25\" x2=\"105\" y2=\"50\" stroke=\"blue\" />\n",
    "                    <line x1=\"5\" y1=\"40\" x2=\"105\" y2=\"40\" stroke=\"blue\" />\n",
    "                    <g transform=\"translate(40, 60)\">\n",
    "                      <!-- forward ref; not defined until later -->\n",
    "                      <use href=\"#dc\" style=\"visibility:var(--vis-geo2-known, hidden)\" />\n",
    "                      <text id=\"geoQuestionMark\" x=\"10\" stroke=\"blue\" style=\"visibility:var(--vis-geo2-unknown, hidden)\">?</text>\n",
    "                    </g>\n",
    "                    <line x1=\"125\" y1=\"10\" x2=\"150\" y2=\"10\" stroke=\"blue\" />\n",
    "                    <line x1=\"125\" y1=\"-20\" x2=\"150\" y2=\"-20\" stroke=\"blue\" />\n",
    "                    <line x1=\"140\" y1=\"10\" x2=\"140\" y2=\"-20\" stroke=\"blue\" />\n",
    "                    <g transform=\"translate(165, 5) rotate(-90)\" >\n",
    "                      <!-- forward ref; not defined until later -->\n",
    "                      <use href=\"#db\" style=\"visibility:var(--vis-geo2-known, hidden)\" />\n",
    "                      <use href=\"#geoQuestionMark\" />\n",
    "                    </g>\n",
    "                    <g transform=\"translate(5, -10) rotate(-15)\">\n",
    "                        <line x1=\"0\" y1=\"0\" x2=\"0\" y2=\"-25\" stroke=\"blue\" />\n",
    "                        <line x1=\"100\" y1=\"0\" x2=\"100\" y2=\"-25\" stroke=\"blue\" />\n",
    "                        <line x1=\"0\" y1=\"-15\" x2=\"100\" y2=\"-15\" stroke=\"blue\" />\n",
    "                        <g transform=\"translate(40, -20)\" >\n",
    "                          <!-- forward ref; not defined until later -->\n",
    "                          <use href=\"#da\" style=\"visibility:var(--vis-geo2-known, hidden)\" />\n",
    "                          <use href=\"#geoQuestionMark\" />\n",
    "                        </g>\n",
    "                    </g>\n",
    "                  </g> <!-- dimension markings -->\n",
    "              </g> <!-- rotation -->\n",
    "            \n",
    "            <!-- swingarm arc markings -->\n",
    "            <g style=\"visibility:var(--vis-swingarm-tri, hidden)\">\n",
    "              <line x1=\"10\" y1=\"10\" x2=\"475\" y2=\"10\" stroke=\"blue\" />\n",
    "              <line x1=\"475\" y1=\"10\" x2=\"475\" y2=\"130\" stroke=\"blue\" />\n",
    "              <rect x=\"445\" y=\"10\" height=\"30\" width=\"30\" stroke=\"blue\" fill=\"white\" />\n",
    "              <line x1=\"485\" y1=\"10\" x2=\"505\" y2=\"10\" stroke=\"blue\" />\n",
    "              <line x1=\"485\" y1=\"130\" x2=\"505\" y2=\"130\" stroke=\"blue\" />\n",
    "              <line x1=\"495\" y1=\"10\" x2=\"495\" y2=\"130\" stroke=\"blue\" />\n",
    "              <text stroke=\"blue\" transform=\"translate(520,90) rotate(-90)\">\n",
    "                d <tspan baseline-shift=\"sub\">y</tspan> \n",
    "              </text>\n",
    "            </g>\n",
    "            \n",
    "            </g> <!-- translation -->\n",
    "        \n",
    "        </g> <!-- swingarm -->\n",
    "        \n",
    "        <g id=\"bodywork\" style=\"visibility:var(--vis-bodywork)\" >\n",
    "          <path d=\"M0 350 L70 350  L100 200  L250 50  L700 0\" stroke=\"black\" fill=\"none\" />\n",
    "        </g>\n",
    "        \n",
    "    </g>\n",
    "    \n",
    "  </defs>\n",
    "\n",
    "  <!-- Diagram for description of the problem -->\n",
    "  <use href=\"#everything\" style=\"--vis-everything:visible;\" />\n",
    "</svg>"
   ]
  },
  {
   "cell_type": "markdown",
   "metadata": {},
   "source": [
    "The approach I'm going to take here requires 2 steps:\n",
    "\n",
    "1. Determine, for a useful range of wheel travel, the relationship between vertical motion of the wheel and the motion of the spring/shock absorber\n",
    "\n",
    "1. Since the spring in this case is a constant rate (non-progressive) then Hooke's law dictates that the relationship between the spring length and force is linear. Given that we know the motion relationship between the wheel and spring then we should be able to work backwards to determine how much force is necessary at the wheel to counteract the forced exerted by the spring at a given position."
   ]
  },
  {
   "cell_type": "markdown",
   "metadata": {
    "hide_input": false
   },
   "source": [
    "# Wheel and swingarm motion\n",
    "\n",
    "It's the vertical motion of the wheel that the rider feels (or the vertical motion of the bike over the wheel) but the spring is actuated by the swingarm, which travels in an arc. So what's the relationship between those two?"
   ]
  },
  {
   "cell_type": "code",
   "execution_count": 51,
   "metadata": {
    "hide_input": false
   },
   "outputs": [],
   "source": [
    "import math\n",
    "# useful constants\n",
    "pi_deg = 180.0 / math.pi\n",
    "\n",
    "# known dimensions\n",
    "# lengths are millimeters, angles are radians\n",
    "d_y_pivot1_rest = 300.0 # height of front swingarm pivot at rest (full extension)\n",
    "d_y_axle = 200.0 # height of rear axle above ground\n",
    "l_pivot1_axle = 430.0 # length of swingarm between front pivot and axle\n",
    "d_y_swingarm_pivot2 = 50.0 # distance between the swingarm centre-line and the swingarm shock pivot\n",
    "d_x_swingarm_pivot2 = 100.0 # distance along the swingarm centre-line between swingarm pivot and shock pivot\n",
    "d_pivot1_pivot3 = 250.0 # distance between swingarm pivot and upper shock mount\n",
    "d_pivot2_pivot3_rest = 270.0 # distance between upper and lower shock mounts at full extension"
   ]
  },
  {
   "cell_type": "code",
   "execution_count": 118,
   "metadata": {},
   "outputs": [
    {
     "data": {
      "image/svg+xml": [
       "<svg height=\"400px\" viewBox=\"50 150 400 400\" xmlns=\"http://www.w3.org/2000/svg\">\n",
       "  <defs>\n",
       "    <text id=\"dSwingarm\">430.0 mm</text>\n",
       "  </defs>\n",
       "  <use href=\"#everything\" style=\"--vis-swingarm:visible; --vis-swingarm-tri:visible; --vis-geo1:visible; --vis-swingarm-mount:hidden;\"/>\n",
       "</svg>"
      ],
      "text/plain": [
       "<IPython.core.display.SVG object>"
      ]
     },
     "execution_count": 118,
     "metadata": {},
     "output_type": "execute_result"
    }
   ],
   "source": [
    "from string import Template\n",
    "s = Template(\"\"\"\n",
    "<svg xmlns=\"http://www.w3.org/2000/svg\" viewBox=\"50 150 400 400\" height=\"400px\">\n",
    "  <defs>\n",
    "    <text id=\"dSwingarm\">$l_pivot1_axle mm</text>\n",
    "  </defs>\n",
    "  <use href=\"#everything\" style=\"--vis-swingarm:visible; --vis-swingarm-tri:visible; --vis-geo1:visible; --vis-swingarm-mount:hidden;\" />\n",
    "</svg>\n",
    "\"\"\")\n",
    "\n",
    "SVG(s.substitute(l_pivot1_axle=l_pivot1_axle))"
   ]
  },
  {
   "cell_type": "markdown",
   "metadata": {},
   "source": [
    "The distance that the rear wheel has travelled in the vertical direction is simply the opposite side of a right triangle formed between the swingarm and the horizontal.\n",
    "\n",
    "In the above sketch $d_y$ will be at maximum when the wheel is at rest on the ground. As the wheel compresses the suspension $d_y$ will decrease to 0 when the swingarm is horizontal, before increasing again as the swingarm rises above the horizontal. This will mean that the swingarm angle that is derived - $ \\theta = \\arcsin \\frac{d_y}{430} $ - will begin positive, fall to 0 then become positive again. \n",
    "\n",
    "To keep the formula continuous and simplify discussion we could consider the travel of the wheel in one side of the horizontal to be positive and the other negative. The swingarm angle would then take on the same sign as $d_y$.\n",
    "\n",
    "Or we could go one step further and consider the 'bump' that has been applied to the wheel to begin at 0 while the wheel is at maximum extension, rising as the suspension compresses ($d_y$ falls) and continuing to rise as the swingarm passes horizontal and $d_y$ rises again. Given that the independent variable in which I am interested here is the _vertical travel of the rear wheel_ then transforming other measurements into this domain will simplify both plotting and discussing results.\n",
    "\n",
    "With the suspension at full extension (ie. the bike on a stand) the height of the swingarm pivot above ground was measured as 300mm and the height of the rear axle 200mm. So at full extension $ d_y = 100mm $ and for the purpose of relating the wheel travel to swingarm angle our new independent variable $d_{bump}$ is simply $ d_y + 100 $ where $d_y$ is negative below horizontal and positive above (and so also the swingarm angle).\n",
    "\n",
    "We can see this plotted as:"
   ]
  },
  {
   "cell_type": "code",
   "execution_count": 12,
   "metadata": {
    "hide_input": false
   },
   "outputs": [],
   "source": [
    "%matplotlib inline"
   ]
  },
  {
   "cell_type": "code",
   "execution_count": 171,
   "metadata": {
    "hide_input": false
   },
   "outputs": [
    {
     "data": {
      "image/png": "[encoded data removed]",
      "text/plain": [
       "<matplotlib.figure.Figure at 0x7f83defd6190>"
      ]
     },
     "metadata": {},
     "output_type": "display_data"
    }
   ],
   "source": [
    "import matplotlib.pyplot as plt\n",
    "from math import asin, pi\n",
    "def wheel_bump_to_swingarm_angle_abs(bump):\n",
    "    return asin((bump - (d_y_pivot1_rest - d_y_axle)) / l_pivot1_axle)\n",
    "\n",
    "bumps = xrange(0,300)\n",
    "\n",
    "plt.plot(bumps, [wheel_bump_to_swingarm_angle_abs(b) * pi_deg for b in bumps])\n",
    "plt.xlabel('Wheel bump (from rest, mm)')\n",
    "plt.ylabel('Swingarm angle (from horizontal, degrees)');"
   ]
  },
  {
   "cell_type": "markdown",
   "metadata": {},
   "source": [
    "Likewise, for the sake of convenience we can also transform the swingarm angle from an absolute above/below horizontal figure to a 'deflection', where 0 deflection is the fully extended position. This will prove useful in a moment as we consider the geometry of the suspension pickup points.\n",
    "\n",
    "As $d_y$ has been measured at 100mm at full extension and the swingarm is 430mm long then this suggests that the angle between the swingarm and horizontal is $ \\arcsin \\frac{100}{430} = 13.44 $ degrees.\n",
    "\n",
    "So our swingarm rests at -13.44 degrees when fully extended and we can simply subtract this from our results above in order to bias the results from 0."
   ]
  },
  {
   "cell_type": "code",
   "execution_count": 143,
   "metadata": {},
   "outputs": [
    {
     "data": {
      "image/png": "[encoded data removed]",
      "text/plain": [
       "<matplotlib.figure.Figure at 0x7f83df259310>"
      ]
     },
     "metadata": {},
     "output_type": "display_data"
    }
   ],
   "source": [
    "a_swingarm_horz_rest = wheel_bump_to_swingarm_angle_abs(0) # angle of swingarm relative to horizon at full extension\n",
    "\n",
    "def wheel_bump_to_swingarm_deflection(bump):\n",
    "    return wheel_bump_to_swingarm_angle_abs(bump) - a_swingarm_horz_rest\n",
    "\n",
    "plt.plot(bumps, [wheel_bump_to_swingarm_deflection(b) * pi_deg for b in bumps])\n",
    "plt.xlabel('Wheel bump (from rest, mm)')\n",
    "plt.ylabel('Swingarm deflection (degrees)');"
   ]
  },
  {
   "cell_type": "markdown",
   "metadata": {},
   "source": [
    "In the above calculations I have consider a useful range of wheel bump to be from 0 to 300mm. This is typical of a full size dirtbike. The bike in consideration here is not full size, but a pitbike. 300mm is an unrealistic amount of suspension travel for a bike of this size but will be used here to explore the boundaries of the geometry."
   ]
  },
  {
   "cell_type": "markdown",
   "metadata": {},
   "source": [
    "# TODO below"
   ]
  },
  {
   "cell_type": "code",
   "execution_count": 170,
   "metadata": {},
   "outputs": [
    {
     "data": {
      "image/png": "[encoded data removed]",
      "text/plain": [
       "<matplotlib.figure.Figure at 0x7f83dfbd3790>"
      ]
     },
     "metadata": {},
     "output_type": "display_data"
    }
   ],
   "source": [
    "slope = (wheel_bump_to_swingarm_angle_abs(101) - wheel_bump_to_swingarm_angle_abs(99)) / 2\n",
    "\n",
    "plt.plot(bumps, [wheel_bump_to_swingarm_angle_abs(b) * pi_deg for b in bumps])\n",
    "plt.plot(bumps, [slope * b * pi_deg - 13.44 for b in bumps])\n",
    "plt.xlabel('Wheel bump (from rest, mm)')\n",
    "plt.ylabel('Swingarm angle (from horizontal, degrees)');"
   ]
  },
  {
   "cell_type": "markdown",
   "metadata": {
    "hide_input": true
   },
   "source": [
    "### Pivot geometry"
   ]
  },
  {
   "cell_type": "code",
   "execution_count": 93,
   "metadata": {
    "hide_input": false
   },
   "outputs": [
    {
     "data": {
      "image/svg+xml": [
       "<svg height=\"400px\" viewBox=\"100 150 200 275\" xmlns=\"http://www.w3.org/2000/svg\">\n",
       "  <use href=\"#everything\" style=\"--vis-swingarm:visible; --vis-geo2:visible; --vis-geo2-unknown:visible\"/>\n",
       "</svg>"
      ],
      "text/plain": [
       "<IPython.core.display.SVG object>"
      ]
     },
     "execution_count": 93,
     "metadata": {},
     "output_type": "execute_result"
    }
   ],
   "source": [
    "from string import Template\n",
    "s = Template(\"\"\"\n",
    "<svg xmlns=\"http://www.w3.org/2000/svg\" viewBox=\"100 150 200 275\" height=\"400px\">\n",
    "  <use href=\"#everything\" style=\"--vis-swingarm:visible; --vis-geo2:visible; --vis-geo2-unknown:visible\" />\n",
    "</svg>\n",
    "\"\"\");\n",
    "\n",
    "from IPython.display import SVG\n",
    "SVG(data=s.substitute())"
   ]
  },
  {
   "cell_type": "code",
   "execution_count": 16,
   "metadata": {
    "hide_input": true
   },
   "outputs": [
    {
     "data": {
      "text/plain": [
       "'Included angle between swingarm centre-line and shock mount on swingarm - 26.5650511771 degrees'"
      ]
     },
     "execution_count": 16,
     "metadata": {},
     "output_type": "execute_result"
    }
   ],
   "source": [
    "a_swingarm_pivot2 = math.atan(d_y_swingarm_pivot2 / d_x_swingarm_pivot2)\n",
    "'Included angle between swingarm centre-line and shock mount on swingarm - {} degrees'.format(a_swingarm_pivot2 * pi_deg)"
   ]
  },
  {
   "cell_type": "code",
   "execution_count": 17,
   "metadata": {
    "hide_input": true
   },
   "outputs": [
    {
     "data": {
      "text/plain": [
       "'Included angle between upper and lower shock mounts at rest - 87.8471235095 degrees'"
      ]
     },
     "execution_count": 17,
     "metadata": {},
     "output_type": "execute_result"
    }
   ],
   "source": [
    "d_pivot1_pivot2 = math.sqrt(d_x_swingarm_pivot2**2 + d_y_swingarm_pivot2**2)\n",
    "\n",
    "def includedAngleMountsResting():\n",
    "    a = d_pivot2_pivot3_rest\n",
    "    b = d_pivot1_pivot3\n",
    "    c = d_pivot1_pivot2\n",
    "    alpha = math.acos(((b**2) + (c**2) - (a**2)) / (2*b*c))\n",
    "    return alpha\n",
    "\n",
    "a_pivot2_pivot3_rest = includedAngleMountsResting()\n",
    "'Included angle between upper and lower shock mounts at rest - {} degrees'.format(a_pivot2_pivot3_rest * pi_deg)"
   ]
  },
  {
   "cell_type": "markdown",
   "metadata": {},
   "source": [
    "### Wheel and shock motion"
   ]
  },
  {
   "cell_type": "code",
   "execution_count": 18,
   "metadata": {
    "hide_input": true
   },
   "outputs": [
    {
     "data": {
      "image/png": "[encoded data removed]",
      "text/plain": [
       "<matplotlib.figure.Figure at 0x7f83dfaffe10>"
      ]
     },
     "metadata": {},
     "output_type": "display_data"
    }
   ],
   "source": [
    "import matplotlib.pyplot as plt\n",
    "def distanceBetweenMounts(includedAngle):\n",
    "    b = d_pivot1_pivot3\n",
    "    c = d_pivot1_pivot2\n",
    "    alpha = includedAngle\n",
    "    a = math.sqrt((b**2) + (c**2) - (2*b*c * math.cos(alpha)))\n",
    "    return a\n",
    "\n",
    "plt.plot(bumps, [d_pivot2_pivot3_rest - distanceBetweenMounts(a_pivot2_pivot3_rest - d) for d in deflections]);\n",
    "plt.xlabel('Wheel bump (from rest, mm)')\n",
    "plt.ylabel('Shock compression (mm)');"
   ]
  }
 ],
 "metadata": {
  "kernelspec": {
   "display_name": "Python 2",
   "language": "python",
   "name": "python2"
  },
  "language_info": {
   "codemirror_mode": {
    "name": "ipython",
    "version": 2
   },
   "file_extension": ".py",
   "mimetype": "text/x-python",
   "name": "python",
   "nbconvert_exporter": "python",
   "pygments_lexer": "ipython2",
   "version": "2.7.12"
  }
 },
 "nbformat": 4,
 "nbformat_minor": 2
}
