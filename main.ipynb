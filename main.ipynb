{
 "cells": [
  {
   "cell_type": "markdown",
   "metadata": {
    "hide_input": false
   },
   "source": [
    "# Problem overview\n",
    "\n",
    "Consider the following sketch - the monoshock, non-linkage rear suspension of a motorcycle. I'd like to know what the mathematical relationship is between the movement of the rear wheel in a vertical direction (ie. that which the rider is going to feel) and the force exerted upon the spring. It's not going to be linear since the wheel travels in an arc but the spring acts linearly. It will be close to linear for a small region around the point where the swingarm is moving perpendicular to the spring. It's not rocket science and the answer might not actually be that interesting, but I'm curious."
   ]
  },
  {
   "cell_type": "code",
   "execution_count": 22,
   "metadata": {
    "hide_input": true
   },
   "outputs": [
    {
     "data": {
      "image/svg+xml": [
       "<svg height=\"400px\" viewBox=\"0 0 500 600\" xmlns=\"http://www.w3.org/2000/svg\">\n",
       "  <defs>\n",
       "    \n",
       "    <circle cx=\"5\" cy=\"5\" fill=\"lightslategrey\" id=\"pivot\" r=\"5\" stroke=\"black\"/>\n",
       "    \n",
       "    <g id=\"alpha\" transform=\"scale(0.01)\">\n",
       "        <path d=\"M 788,916 L 958,916 L 855,453 C 835,365 821.33333,311 814,291 C 840.66667,168.33333 879.33333,107 930,107 C 990,107 1021,148.33333 1023,231 L 1059,231 C 1057,153.66667 1042.8333,91.166667 1016.5,43.5 C 990.16667,-4.1666667 955.66667,-28 913,-28 C 877.66667,-28 851.33333,-13.666667 834,15 C 816.66667,43.666667 798,102.33333 778,191 C 708.66667,45 595.33333,-28 438,-28 C 330.66667,-28 245.33333,13.833333 182,97.5 C 118.66667,181.16667 87,301 87,457 C 87,610.33333 121.66667,729.66667 191,815 C 260.33333,900.33333 343.66667,943 441,943 C 509.66667,943 566,918.66667 610,870 C 654,821.33333 693,742 727,632 L 788,916 z M 700,524 C 668.66667,631.33333 633.66667,715.16667 595,775.5 C 556.33333,835.83333 510,866 456,866 C 334,866 273,723.33333 273,438 C 273,167.33333 331.33333,32 448,32 C 549.33333,32 624.33333,151.33333 673,390 L 700,524 z\" fill=\"blue\"/>\n",
       "    </g>\n",
       "    \n",
       "    <g id=\"mount\">\n",
       "      <rect fill=\"whitesmoke\" height=\"30\" stroke=\"black\" width=\"30\"/>\n",
       "      <use href=\"#pivot\" x=\"10\" y=\"10\"/>\n",
       "    </g>\n",
       "    \n",
       "    <g id=\"everything\" style=\"visibility:var(--vis-everything, hidden)\">\n",
       "        <!-- upper shock mount -->\n",
       "        <use href=\"#mount\" style=\"visibility:var(--vis-mount-top)\" x=\"100\" y=\"50\"/>\n",
       "        \n",
       "        <!-- shock -->\n",
       "        <g transform=\"translate(125,60) rotate(80) scale(0.65) translate(50,0)\">\n",
       "            <rect height=\"10\" width=\"300\" y=\"10\"/>\n",
       "            <rect height=\"30\" width=\"200\"/>\n",
       "            \n",
       "            <g transform=\"translate(0, -10)\">\n",
       "                <g id=\"coil\" transform=\"rotate(-30)\">\n",
       "                    <circle cx=\"0\" cy=\"0\" fill=\"black\" r=\"5\" stroke=\"black\"/>\n",
       "                    <circle cx=\"0\" cy=\"60\" fill=\"black\" r=\"5\" stroke=\"black\"/>\n",
       "                    <rect height=\"60\" width=\"10\" x=\"-5\"/>\n",
       "                </g>\n",
       "                <use href=\"#coil\" x=\"40\"/>\n",
       "                <use href=\"#coil\" x=\"80\"/>\n",
       "                <use href=\"#coil\" x=\"120\"/>\n",
       "                <use href=\"#coil\" x=\"160\"/>\n",
       "                <use href=\"#coil\" x=\"200\"/>\n",
       "                <use href=\"#coil\" x=\"240\"/>\n",
       "            </g>\n",
       "        </g>\n",
       "\n",
       "        <g id=\"swingarm\" style=\"visibility:var(--vis-swingarm)\">\n",
       "          <g transform=\"translate(50,300)\">\n",
       "              <!-- swingarm pivot -->\n",
       "              <use href=\"#mount\" style=\"visibility:var(--vis-mount-front)\" x=\"-5\" y=\"-5\"/>\n",
       "            \n",
       "              <g transform=\"rotate(15,15,15)\">\n",
       "                  <!-- wheel -->\n",
       "                  <circle cx=\"490\" cy=\"10\" fill=\"none\" r=\"200\" stroke=\"black\"/>\n",
       "\n",
       "                  <!-- arm and lower shock mount -->\n",
       "                  <g style=\"visibility:var(--vis-mount-swingarm)\">\n",
       "                    <rect fill=\"lightsteelblue\" height=\"50\" stroke=\"black\" width=\"20\" x=\"100\" y=\"-30\"/>\n",
       "                    <use href=\"#pivot\" x=\"105\" y=\"-25\"/>\n",
       "                  </g>  \n",
       "                  <rect fill=\"lightsteelblue\" height=\"20\" stroke=\"black\" width=\"500\" x=\"0\" y=\"0\"/>\n",
       "                  <use href=\"#pivot\" x=\"5\" y=\"5\"/>\n",
       "                  <use href=\"#pivot\" x=\"485\" y=\"5\"/>\n",
       "                  <!-- length marking on swingarm -->\n",
       "                  <g style=\"visibility:var(--vis-geo1, hidden)\">\n",
       "                    <line stroke=\"blue\" x1=\"10\" x2=\"10\" y1=\"40\" y2=\"60\"/>\n",
       "                    <line stroke=\"blue\" x1=\"490\" x2=\"490\" y1=\"40\" y2=\"60\"/>\n",
       "                    <line stroke=\"blue\" x1=\"10\" x2=\"490\" y1=\"50\" y2=\"50\"/>\n",
       "                    <!-- forward ref -->\n",
       "                    <use href=\"#dSwingarm\" stroke=\"blue\" x=\"250\" y=\"80\"/>\n",
       "                  </g>  \n",
       "                \n",
       "                  <!-- dimension markings on swingarm/shock geometry -->\n",
       "                  <g style=\"visibility:var(--vis-geo2, hidden)\">\n",
       "                    <line stroke=\"blue\" x1=\"5\" x2=\"5\" y1=\"25\" y2=\"50\"/>\n",
       "                    <line stroke=\"blue\" x1=\"105\" x2=\"105\" y1=\"25\" y2=\"50\"/>\n",
       "                    <line stroke=\"blue\" x1=\"5\" x2=\"105\" y1=\"40\" y2=\"40\"/>\n",
       "                    <g transform=\"translate(40, 60)\">\n",
       "                      <!-- forward ref; not defined until later -->\n",
       "                      <use href=\"#dc\" stroke=\"blue\"/>\n",
       "                    </g>\n",
       "                    <line stroke=\"blue\" x1=\"125\" x2=\"150\" y1=\"10\" y2=\"10\"/>\n",
       "                    <line stroke=\"blue\" x1=\"125\" x2=\"150\" y1=\"-20\" y2=\"-20\"/>\n",
       "                    <line stroke=\"blue\" x1=\"140\" x2=\"140\" y1=\"10\" y2=\"-20\"/>\n",
       "                    <g transform=\"translate(165, 5) rotate(-90)\">\n",
       "                      <!-- forward ref; not defined until later -->\n",
       "                      <use href=\"#db\" stroke=\"blue\"/>\n",
       "                    </g>\n",
       "                    <g transform=\"translate(5, -10) rotate(-15)\">\n",
       "                        <line stroke=\"blue\" x1=\"0\" x2=\"0\" y1=\"0\" y2=\"-25\"/>\n",
       "                        <line stroke=\"blue\" x1=\"100\" x2=\"100\" y1=\"0\" y2=\"-25\"/>\n",
       "                        <line stroke=\"blue\" x1=\"0\" x2=\"100\" y1=\"-15\" y2=\"-15\"/>\n",
       "                        <g transform=\"translate(40, -20)\">\n",
       "                          <text id=\"geoQuestionMark\" stroke=\"blue\">?</text>                          \n",
       "                        </g>\n",
       "                    </g>\n",
       "                  </g> <!-- dimension markings -->\n",
       "              </g> <!-- rotation -->\n",
       "            \n",
       "            <!-- swingarm arc markings -->\n",
       "            <g style=\"visibility:var(--vis-swingarm-tri, hidden)\">\n",
       "              <line stroke=\"blue\" x1=\"10\" x2=\"475\" y1=\"10\" y2=\"10\"/>\n",
       "              <line stroke=\"blue\" x1=\"475\" x2=\"475\" y1=\"10\" y2=\"130\"/>\n",
       "              <rect fill=\"white\" height=\"30\" stroke=\"blue\" width=\"30\" x=\"445\" y=\"10\"/>\n",
       "              <line stroke=\"blue\" x1=\"485\" x2=\"505\" y1=\"10\" y2=\"10\"/>\n",
       "              <line stroke=\"blue\" x1=\"485\" x2=\"505\" y1=\"130\" y2=\"130\"/>\n",
       "              <line stroke=\"blue\" x1=\"495\" x2=\"495\" y1=\"10\" y2=\"130\"/>\n",
       "              <text stroke=\"blue\" transform=\"translate(520,90) rotate(-90)\">\n",
       "                d <tspan baseline-shift=\"sub\">y</tspan> \n",
       "              </text>\n",
       "            </g>\n",
       "            \n",
       "            </g> <!-- translation -->\n",
       "        \n",
       "        </g> <!-- swingarm -->\n",
       "        \n",
       "        <!-- dimension markings for shock -->\n",
       "        <g style=\"visibility:var(--vis-geo3, hidden)\">\n",
       "            <line stroke=\"blue\" x1=\"114\" x2=\"65\" y1=\"74\" y2=\"300\"/>\n",
       "            <use href=\"#dd\" stroke=\"blue\" transform=\"translate(80,200) rotate(-75)\"/>\n",
       "            <line stroke=\"blue\" x1=\"70\" x2=\"150\" y1=\"310\" y2=\"310\"/>\n",
       "            <text stroke=\"blue\" x=\"110\" y=\"330\">?</text>\n",
       "            <line stroke=\"blue\" x1=\"118\" x2=\"160\" y1=\"74\" y2=\"295\"/>\n",
       "            <text stroke=\"blue\" transform=\"translate(150,180) rotate(75)\">\n",
       "                d <tspan baseline-shift=\"sub\">s</tspan> \n",
       "            </text>\n",
       "            <use href=\"#alpha\" x=\"80\" y=\"280\"/>\n",
       "        </g>\n",
       "        \n",
       "        <g id=\"bodywork\" style=\"visibility:var(--vis-bodywork)\">\n",
       "          <path d=\"M0 350 L70 350  L100 200  L250 50  L700 0\" fill=\"none\" stroke=\"black\"/>\n",
       "        </g>\n",
       "        \n",
       "    </g>\n",
       "    \n",
       "  </defs>\n",
       "\n",
       "  <!-- Diagram for description of the problem -->\n",
       "  <use href=\"#everything\" style=\"--vis-everything:visible; --vis-geo3:visible\"/>\n",
       "</svg>"
      ],
      "text/plain": [
       "<IPython.core.display.SVG object>"
      ]
     },
     "metadata": {},
     "output_type": "display_data"
    }
   ],
   "source": [
    "%%svg\n",
    "<!-- This the SVG diagram which is used for illustrating the problem and each of the steps -->\n",
    "\n",
    "<svg xmlns=\"http://www.w3.org/2000/svg\" viewBox=\"0 0 500 600\" height=\"400px\">\n",
    "  <defs>\n",
    "    \n",
    "    <circle id=\"pivot\" r=\"5\" cx=\"5\" cy=\"5\" stroke=\"black\" fill=\"lightslategrey\" />\n",
    "    \n",
    "    <g id=\"alpha\" transform=\"scale(0.01)\">\n",
    "        <path fill=\"blue\" d=\"M 788,916 L 958,916 L 855,453 C 835,365 821.33333,311 814,291 C 840.66667,168.33333 879.33333,107 930,107 C 990,107 1021,148.33333 1023,231 L 1059,231 C 1057,153.66667 1042.8333,91.166667 1016.5,43.5 C 990.16667,-4.1666667 955.66667,-28 913,-28 C 877.66667,-28 851.33333,-13.666667 834,15 C 816.66667,43.666667 798,102.33333 778,191 C 708.66667,45 595.33333,-28 438,-28 C 330.66667,-28 245.33333,13.833333 182,97.5 C 118.66667,181.16667 87,301 87,457 C 87,610.33333 121.66667,729.66667 191,815 C 260.33333,900.33333 343.66667,943 441,943 C 509.66667,943 566,918.66667 610,870 C 654,821.33333 693,742 727,632 L 788,916 z M 700,524 C 668.66667,631.33333 633.66667,715.16667 595,775.5 C 556.33333,835.83333 510,866 456,866 C 334,866 273,723.33333 273,438 C 273,167.33333 331.33333,32 448,32 C 549.33333,32 624.33333,151.33333 673,390 L 700,524 z\" />\n",
    "    </g>\n",
    "    \n",
    "    <g id=\"mount\">\n",
    "      <rect height=\"30\" width=\"30\" stroke=\"black\" fill=\"whitesmoke\" />\n",
    "      <use href=\"#pivot\" x=\"10\" y=\"10\" />\n",
    "    </g>\n",
    "    \n",
    "    <g id=\"everything\" style=\"visibility:var(--vis-everything, hidden)\">\n",
    "        <!-- upper shock mount -->\n",
    "        <use href=\"#mount\" x=\"100\" y=\"50\" style=\"visibility:var(--vis-mount-top)\" />\n",
    "        \n",
    "        <!-- shock -->\n",
    "        <g transform=\"translate(125,60) rotate(80) scale(0.65) translate(50,0)\">\n",
    "            <rect height=\"10\" width=\"300\" y=\"10\" />\n",
    "            <rect height=\"30\" width=\"200\" />\n",
    "            \n",
    "            <g transform=\"translate(0, -10)\">\n",
    "                <g id=\"coil\" transform=\"rotate(-30)\">\n",
    "                    <circle r=\"5\" cx=\"0\" cy=\"0\" stroke=\"black\" fill=\"black\" />\n",
    "                    <circle r=\"5\" cx=\"0\" cy=\"60\" stroke=\"black\" fill=\"black\" />\n",
    "                    <rect height=\"60\" width=\"10\" x=\"-5\" />\n",
    "                </g>\n",
    "                <use href=\"#coil\" x=\"40\" />\n",
    "                <use href=\"#coil\" x=\"80\" />\n",
    "                <use href=\"#coil\" x=\"120\" />\n",
    "                <use href=\"#coil\" x=\"160\" />\n",
    "                <use href=\"#coil\" x=\"200\" />\n",
    "                <use href=\"#coil\" x=\"240\" />\n",
    "            </g>\n",
    "        </g>\n",
    "\n",
    "        <g id=\"swingarm\" style=\"visibility:var(--vis-swingarm)\" >\n",
    "          <g transform=\"translate(50,300)\" >\n",
    "              <!-- swingarm pivot -->\n",
    "              <use href=\"#mount\" x=\"-5\" y=\"-5\" style=\"visibility:var(--vis-mount-front)\" />\n",
    "            \n",
    "              <g transform=\"rotate(15,15,15)\" >\n",
    "                  <!-- wheel -->\n",
    "                  <circle r=\"200\" cx=\"490\" cy=\"10\" stroke=\"black\" fill=\"none\" />\n",
    "\n",
    "                  <!-- arm and lower shock mount -->\n",
    "                  <g style=\"visibility:var(--vis-mount-swingarm)\">\n",
    "                    <rect x=\"100\" y=\"-30\" width=\"20\" height=\"50\" stroke=\"black\" fill=\"lightsteelblue\" />\n",
    "                    <use href=\"#pivot\" x=\"105\" y=\"-25\" />\n",
    "                  </g>  \n",
    "                  <rect x=\"0\" y=\"0\" width=\"500\" height=\"20\" stroke=\"black\" fill=\"lightsteelblue\" />\n",
    "                  <use href=\"#pivot\" x=\"5\" y=\"5\" />\n",
    "                  <use href=\"#pivot\" x=\"485\" y=\"5\" />\n",
    "                  <!-- length marking on swingarm -->\n",
    "                  <g style=\"visibility:var(--vis-geo1, hidden)\">\n",
    "                    <line x1=\"10\" y1=\"40\" x2=\"10\" y2=\"60\" stroke=\"blue\" />\n",
    "                    <line x1=\"490\" y1=\"40\" x2=\"490\" y2=\"60\" stroke=\"blue\" />\n",
    "                    <line x1=\"10\" y1=\"50\" x2=\"490\" y2=\"50\" stroke=\"blue\" />\n",
    "                    <!-- forward ref -->\n",
    "                    <use href=\"#dSwingarm\" x=\"250\" y=\"80\" stroke=\"blue\" />\n",
    "                  </g>  \n",
    "                \n",
    "                  <!-- dimension markings on swingarm/shock geometry -->\n",
    "                  <g style=\"visibility:var(--vis-geo2, hidden)\">\n",
    "                    <line x1=\"5\" y1=\"25\" x2=\"5\" y2=\"50\" stroke=\"blue\" />\n",
    "                    <line x1=\"105\" y1=\"25\" x2=\"105\" y2=\"50\" stroke=\"blue\" />\n",
    "                    <line x1=\"5\" y1=\"40\" x2=\"105\" y2=\"40\" stroke=\"blue\" />\n",
    "                    <g transform=\"translate(40, 60)\">\n",
    "                      <!-- forward ref; not defined until later -->\n",
    "                      <use href=\"#dc\" stroke=\"blue\" />\n",
    "                    </g>\n",
    "                    <line x1=\"125\" y1=\"10\" x2=\"150\" y2=\"10\" stroke=\"blue\" />\n",
    "                    <line x1=\"125\" y1=\"-20\" x2=\"150\" y2=\"-20\" stroke=\"blue\" />\n",
    "                    <line x1=\"140\" y1=\"10\" x2=\"140\" y2=\"-20\" stroke=\"blue\" />\n",
    "                    <g transform=\"translate(165, 5) rotate(-90)\" >\n",
    "                      <!-- forward ref; not defined until later -->\n",
    "                      <use href=\"#db\" stroke=\"blue\" />\n",
    "                    </g>\n",
    "                    <g transform=\"translate(5, -10) rotate(-15)\">\n",
    "                        <line x1=\"0\" y1=\"0\" x2=\"0\" y2=\"-25\" stroke=\"blue\" />\n",
    "                        <line x1=\"100\" y1=\"0\" x2=\"100\" y2=\"-25\" stroke=\"blue\" />\n",
    "                        <line x1=\"0\" y1=\"-15\" x2=\"100\" y2=\"-15\" stroke=\"blue\" />\n",
    "                        <g transform=\"translate(40, -20)\" >\n",
    "                          <text id=\"geoQuestionMark\" stroke=\"blue\">?</text>                          \n",
    "                        </g>\n",
    "                    </g>\n",
    "                  </g> <!-- dimension markings -->\n",
    "              </g> <!-- rotation -->\n",
    "            \n",
    "            <!-- swingarm arc markings -->\n",
    "            <g style=\"visibility:var(--vis-swingarm-tri, hidden)\">\n",
    "              <line x1=\"10\" y1=\"10\" x2=\"475\" y2=\"10\" stroke=\"blue\" />\n",
    "              <line x1=\"475\" y1=\"10\" x2=\"475\" y2=\"130\" stroke=\"blue\" />\n",
    "              <rect x=\"445\" y=\"10\" height=\"30\" width=\"30\" stroke=\"blue\" fill=\"white\" />\n",
    "              <line x1=\"485\" y1=\"10\" x2=\"505\" y2=\"10\" stroke=\"blue\" />\n",
    "              <line x1=\"485\" y1=\"130\" x2=\"505\" y2=\"130\" stroke=\"blue\" />\n",
    "              <line x1=\"495\" y1=\"10\" x2=\"495\" y2=\"130\" stroke=\"blue\" />\n",
    "              <text stroke=\"blue\" transform=\"translate(520,90) rotate(-90)\">\n",
    "                d <tspan baseline-shift=\"sub\">y</tspan> \n",
    "              </text>\n",
    "            </g>\n",
    "            \n",
    "            </g> <!-- translation -->\n",
    "        \n",
    "        </g> <!-- swingarm -->\n",
    "        \n",
    "        <!-- dimension markings for shock -->\n",
    "        <g style=\"visibility:var(--vis-geo3, hidden)\">\n",
    "            <line x1=\"114\" y1=\"74\" x2=\"65\" y2=\"300\" stroke=\"blue\" />\n",
    "            <use href=\"#dd\" stroke=\"blue\" transform=\"translate(80,200) rotate(-75)\" />\n",
    "            <line x1=\"70\" y1=\"310\" x2=\"150\" y2=\"310\" stroke=\"blue\" />\n",
    "            <text x=\"110\" y=\"330\" stroke=\"blue\" >?</text>\n",
    "            <line x1=\"118\" y1=\"74\" x2=\"160\" y2=\"295\" stroke=\"blue\" />\n",
    "            <text stroke=\"blue\" transform=\"translate(150,180) rotate(75)\" >\n",
    "                d <tspan baseline-shift=\"sub\">s</tspan> \n",
    "            </text>\n",
    "            <use href=\"#alpha\" x=\"80\" y=\"280\" />\n",
    "        </g>\n",
    "        \n",
    "        <g id=\"bodywork\" style=\"visibility:var(--vis-bodywork)\" >\n",
    "          <path d=\"M0 350 L70 350  L100 200  L250 50  L700 0\" stroke=\"black\" fill=\"none\" />\n",
    "        </g>\n",
    "        \n",
    "    </g>\n",
    "    \n",
    "  </defs>\n",
    "\n",
    "  <!-- Diagram for description of the problem -->\n",
    "  <use href=\"#everything\" style=\"--vis-everything:visible; --vis-geo3:visible\" />\n",
    "</svg>"
   ]
  },
  {
   "cell_type": "markdown",
   "metadata": {},
   "source": [
    "The approach I'm going to take here requires 2 steps:\n",
    "\n",
    "1. Determine, for a useful range of wheel travel, the relationship between vertical motion of the wheel and the motion of the spring/shock absorber\n",
    "\n",
    "1. Since the spring in this case is a constant rate (non-progressive) then Hooke's law dictates that the relationship between the spring length and force is linear. Given that we know the motion relationship between the wheel and spring then we should be able to work backwards to determine how much force is necessary at the wheel to counteract the forced exerted by the spring at a given position."
   ]
  },
  {
   "cell_type": "markdown",
   "metadata": {
    "hide_input": false
   },
   "source": [
    "# Wheel and swingarm motion\n",
    "\n",
    "It's the vertical motion of the wheel that the rider feels (or the vertical motion of the bike over the wheel) but the spring is actuated by the swingarm, which travels in an arc. So what's the relationship between those two?"
   ]
  },
  {
   "cell_type": "code",
   "execution_count": 23,
   "metadata": {
    "hide_input": true
   },
   "outputs": [],
   "source": [
    "import math\n",
    "# useful constants\n",
    "pi_deg = 180.0 / math.pi\n",
    "\n",
    "# known dimensions\n",
    "# lengths are millimeters, angles are radians\n",
    "d_y_pivot1_rest = 300.0 # height of front swingarm pivot at rest (full extension)\n",
    "d_y_axle = 200.0 # height of rear axle above ground\n",
    "l_pivot1_axle = 430.0 # length of swingarm between front pivot and axle\n",
    "d_y_swingarm_pivot2 = 50.0 # distance between the swingarm centre-line and the swingarm shock pivot\n",
    "d_x_swingarm_pivot2 = 100.0 # distance along the swingarm centre-line between swingarm pivot and shock pivot\n",
    "d_pivot1_pivot3 = 250.0 # distance between swingarm pivot and upper shock mount\n",
    "d_pivot2_pivot3_rest = 270.0 # distance between upper and lower shock mounts at full extension"
   ]
  },
  {
   "cell_type": "code",
   "execution_count": 24,
   "metadata": {
    "hide_input": true
   },
   "outputs": [
    {
     "data": {
      "image/svg+xml": [
       "<svg height=\"400px\" viewBox=\"50 150 400 400\" xmlns=\"http://www.w3.org/2000/svg\">\n",
       "  <defs>\n",
       "    <text id=\"dSwingarm\">430.0 mm</text>\n",
       "  </defs>\n",
       "  <use href=\"#everything\" style=\"--vis-swingarm:visible; --vis-swingarm-tri:visible; --vis-geo1:visible; --vis-mount-swingarm:hidden;\"/>\n",
       "</svg>"
      ],
      "text/plain": [
       "<IPython.core.display.SVG object>"
      ]
     },
     "execution_count": 24,
     "metadata": {},
     "output_type": "execute_result"
    }
   ],
   "source": [
    "from string import Template\n",
    "from IPython.display import SVG\n",
    "\n",
    "s = Template('''\n",
    "<svg xmlns=\"http://www.w3.org/2000/svg\" viewBox=\"50 150 400 400\" height=\"400px\">\n",
    "  <defs>\n",
    "    <text id=\"dSwingarm\">$l_pivot1_axle mm</text>\n",
    "  </defs>\n",
    "  <use href=\"#everything\" style=\"--vis-swingarm:visible; --vis-swingarm-tri:visible; --vis-geo1:visible; --vis-mount-swingarm:hidden;\" />\n",
    "</svg>\n",
    "''')\n",
    "\n",
    "SVG(s.substitute(l_pivot1_axle=l_pivot1_axle))"
   ]
  },
  {
   "cell_type": "code",
   "execution_count": 25,
   "metadata": {
    "hide_input": true
   },
   "outputs": [
    {
     "data": {
      "text/markdown": [
       "\n",
       "The distance that the rear wheel has travelled in the vertical direction is simply the opposite side of a right triangle formed between the swingarm and the horizontal.\n",
       "\n",
       "In the above sketch $d_y$ will be at maximum when the wheel is at rest on the ground. As the wheel compresses the suspension $d_y$ will decrease to 0 when the swingarm is horizontal, before increasing again as the swingarm rises above the horizontal. This will mean that the swingarm angle that is derived - $ \\theta = \\arcsin \\frac{d_y}{430} $ - will begin positive, fall to 0 then become positive again. \n",
       "\n",
       "To keep the formula continuous and simplify discussion we could consider the travel of the wheel in one side of the horizontal to be positive and the other negative. The swingarm angle would then take on the same sign as $d_y$.\n",
       "\n",
       "Or we could go one step further and consider the 'bump' that has been applied to the wheel to begin at 0 while the wheel is at maximum extension, rising as the suspension compresses ($d_y$ falls) and continuing to rise as the swingarm passes horizontal and $d_y$ rises again. Given that the independent variable in which I am interested here is the _vertical travel of the rear wheel_ then transforming other measurements into this domain will simplify both plotting and discussing results.\n",
       "\n",
       "With the suspension at full extension (ie. the bike on a stand) the height of the swingarm pivot above ground was measured as 300mm and the height of the rear axle 200mm. So at full extension $ d_y = 100mm $ and for the purpose of relating the wheel travel to swingarm angle our new independent variable $d_{bump}$ is simply $ d_y + 100 $ where $d_y$ is negative below horizontal and positive above (and so also the swingarm angle).\n",
       "\n",
       "We can see this plotted as:\n"
      ],
      "text/plain": [
       "<IPython.core.display.Markdown object>"
      ]
     },
     "execution_count": 25,
     "metadata": {},
     "output_type": "execute_result"
    }
   ],
   "source": [
    "from IPython.display import Markdown\n",
    "from string import Template\n",
    "\n",
    "t = Template('''\n",
    "The distance that the rear wheel has travelled in the vertical direction is simply the opposite side of a right triangle formed between the swingarm and the horizontal.\n",
    "\n",
    "In the above sketch $$d_y$$ will be at maximum when the wheel is at rest on the ground. As the wheel compresses the suspension $$d_y$$ will decrease to 0 when the swingarm is horizontal, before increasing again as the swingarm rises above the horizontal. This will mean that the swingarm angle that is derived - $$ \\\\theta = \\\\arcsin \\\\frac{d_y}{$l_pivot1_axle} $$ - will begin positive, fall to 0 then become positive again. \n",
    "\n",
    "To keep the formula continuous and simplify discussion we could consider the travel of the wheel in one side of the horizontal to be positive and the other negative. The swingarm angle would then take on the same sign as $$d_y$$.\n",
    "\n",
    "Or we could go one step further and consider the 'bump' that has been applied to the wheel to begin at 0 while the wheel is at maximum extension, rising as the suspension compresses ($$d_y$$ falls) and continuing to rise as the swingarm passes horizontal and $$d_y$$ rises again. Given that the independent variable in which I am interested here is the _vertical travel of the rear wheel_ then transforming other measurements into this domain will simplify both plotting and discussing results.\n",
    "\n",
    "With the suspension at full extension (ie. the bike on a stand) the height of the swingarm pivot above ground was measured as ${d_y_pivot1_rest}mm and the height of the rear axle ${d_y_axle}mm. So at full extension $$ d_y = ${bump_rest}mm $$ and for the purpose of relating the wheel travel to swingarm angle our new independent variable $$d_{bump}$$ is simply $$ d_y + $bump_rest $$ where $$d_y$$ is negative below horizontal and positive above (and so also the swingarm angle).\n",
    "\n",
    "We can see this plotted as:\n",
    "''')\n",
    "Markdown(t.substitute(\n",
    "    l_pivot1_axle='{:.0f}'.format(l_pivot1_axle),\n",
    "    d_y_pivot1_rest='{:.0f}'.format(d_y_pivot1_rest),\n",
    "    d_y_axle='{:.0f}'.format(d_y_axle),\n",
    "    bump_rest='{:.0f}'.format(d_y_pivot1_rest - d_y_axle)\n",
    "))"
   ]
  },
  {
   "cell_type": "code",
   "execution_count": 26,
   "metadata": {
    "hide_input": true
   },
   "outputs": [],
   "source": [
    "%matplotlib inline"
   ]
  },
  {
   "cell_type": "code",
   "execution_count": 27,
   "metadata": {
    "hide_input": true
   },
   "outputs": [
    {
     "data": {
      "image/png": "[encoded data removed]",
      "text/plain": [
       "<Figure size 432x288 with 1 Axes>"
      ]
     },
     "metadata": {
      "needs_background": "light"
     },
     "output_type": "display_data"
    }
   ],
   "source": [
    "import matplotlib.pyplot as plt\n",
    "from math import asin, pi\n",
    "def wheel_bump_to_swingarm_angle_abs(bump):\n",
    "    return asin((bump - (d_y_pivot1_rest - d_y_axle)) / l_pivot1_axle)\n",
    "\n",
    "bumps = range(0,300)\n",
    "\n",
    "plt.plot(bumps, [wheel_bump_to_swingarm_angle_abs(b) * pi_deg for b in bumps])\n",
    "plt.xlabel('Wheel bump (from rest, mm)')\n",
    "plt.ylabel('Swingarm angle (from horizontal, degrees)');"
   ]
  },
  {
   "cell_type": "code",
   "execution_count": 28,
   "metadata": {
    "hide_input": false
   },
   "outputs": [
    {
     "data": {
      "text/markdown": [
       "\n",
       "Likewise, for the sake of convenience we can also transform the swingarm angle from an absolute above/below horizontal figure to a 'deflection', where 0 deflection is the fully extended position. This will prove useful in a moment as we consider the geometry of the suspension pickup points.\n",
       "\n",
       "As $d_y$ has been measured at 100mm at full extension and the swingarm is 430mm long then this suggests that the angle between the swingarm and horizontal is $ \\arcsin \\frac{100}{430} = -13.45 $ degrees.\n",
       "\n",
       "So our swingarm rests at --13.45 degrees when fully extended and we can simply subtract this from our results above in order to bias the results from 0.\n"
      ],
      "text/plain": [
       "<IPython.core.display.Markdown object>"
      ]
     },
     "execution_count": 28,
     "metadata": {},
     "output_type": "execute_result"
    }
   ],
   "source": [
    "a_swingarm_horz_rest = wheel_bump_to_swingarm_angle_abs(0) # angle of swingarm relative to horizon at full extension\n",
    "\n",
    "from string import Template\n",
    "from IPython.display import Markdown\n",
    "\n",
    "t = Template('''\n",
    "Likewise, for the sake of convenience we can also transform the swingarm angle from an absolute above/below horizontal figure to a 'deflection', where 0 deflection is the fully extended position. This will prove useful in a moment as we consider the geometry of the suspension pickup points.\n",
    "\n",
    "As $$d_y$$ has been measured at ${bump_rest}mm at full extension and the swingarm is ${l_pivot1_axle}mm long then this suggests that the angle between the swingarm and horizontal is $$ \\\\arcsin \\\\frac{$bump_rest}{$l_pivot1_axle} = $a_swingarm_horz_rest $$ degrees.\n",
    "\n",
    "So our swingarm rests at -$a_swingarm_horz_rest degrees when fully extended and we can simply subtract this from our results above in order to bias the results from 0.\n",
    "''')\n",
    "\n",
    "Markdown(t.substitute(\n",
    "    bump_rest='{:.0f}'.format(d_y_pivot1_rest - d_y_axle),\n",
    "    l_pivot1_axle='{:.0f}'.format(l_pivot1_axle),\n",
    "    a_swingarm_horz_rest='{:.2f}'.format(a_swingarm_horz_rest * pi_deg)\n",
    "))"
   ]
  },
  {
   "cell_type": "code",
   "execution_count": 29,
   "metadata": {
    "hide_input": true
   },
   "outputs": [
    {
     "data": {
      "image/png": "[encoded data removed]",
      "text/plain": [
       "<Figure size 432x288 with 1 Axes>"
      ]
     },
     "metadata": {
      "needs_background": "light"
     },
     "output_type": "display_data"
    }
   ],
   "source": [
    "def wheel_bump_to_swingarm_deflection(bump):\n",
    "    return wheel_bump_to_swingarm_angle_abs(bump) - a_swingarm_horz_rest\n",
    "\n",
    "plt.plot(bumps, [wheel_bump_to_swingarm_deflection(b) * pi_deg for b in bumps])\n",
    "plt.xlabel('Wheel bump (from rest, mm)')\n",
    "plt.ylabel('Swingarm deflection (degrees)');"
   ]
  },
  {
   "cell_type": "markdown",
   "metadata": {},
   "source": [
    "In the above calculations I have consider a useful range of wheel bump to be from 0 to 300mm. This is typical of a full size dirtbike. The bike in consideration here is not full size but a pitbike. 300mm is an unrealistic amount of suspension travel for a bike of this size but will be used here to explore the boundaries of the geometry.\n",
    "\n",
    "We can also see that for the range in which we are interested the relationship is very linear. Of the top of my head I could have said that sine was quite linear over a reasonable range near 0 degrees, but I wouldn't have said it was _so_ linear for a range as large as we interested. This is likely advantagous for this particular use case - suspension - as it means that spring rate is fairly constant for a large range of suspension travel and as such is easier to design for than if not. \n",
    "\n",
    "How far off a straight line is it? Let's consider the slope of the line around the point where the swingarm is horizontal. If we take a couple of points close to but above and below the horizontal, say 1mm of deflection either side, then we can get a coarse estimate of the slope at that point. ie. $ \\frac {\\Delta \\theta} {\\Delta d} $ where $\\Delta \\theta$ is the difference between the angle of the swingarm at +/- 1mm of horizontal and $\\Delta d$ is the difference in deflection at which that occurred - in this case 2mm. The slope around the horizontal swingarm is then:"
   ]
  },
  {
   "cell_type": "code",
   "execution_count": 30,
   "metadata": {
    "hide_input": true
   },
   "outputs": [
    {
     "data": {
      "text/markdown": [
       "$ \\frac {0.1332 - (-0.1332)} {2} = 0.1332 $ deg/mm"
      ],
      "text/plain": [
       "<IPython.core.display.Markdown object>"
      ]
     },
     "execution_count": 30,
     "metadata": {},
     "output_type": "execute_result"
    }
   ],
   "source": [
    "from string import Template\n",
    "from IPython.display import Markdown\n",
    "\n",
    "t = Template('$$ \\\\frac {$d2 - ($d1)} {2} = $slope $$ deg/mm')\n",
    "\n",
    "slope = (wheel_bump_to_swingarm_angle_abs(101) - wheel_bump_to_swingarm_angle_abs(99)) / 2\n",
    "\n",
    "Markdown(t.substitute(\n",
    "    d2='{:.4f}'.format(wheel_bump_to_swingarm_angle_abs(101) * pi_deg),\n",
    "    d1='{:.4f}'.format(wheel_bump_to_swingarm_angle_abs(99) * pi_deg),\n",
    "    slope='{:.4f}'.format(slope * pi_deg)\n",
    "))"
   ]
  },
  {
   "cell_type": "markdown",
   "metadata": {},
   "source": [
    "Which superimposed on the real curve looks very close to the ideal straight line for all of the range over which we are interested:"
   ]
  },
  {
   "cell_type": "code",
   "execution_count": 31,
   "metadata": {
    "hide_input": true
   },
   "outputs": [
    {
     "data": {
      "image/png": "[encoded data removed]",
      "text/plain": [
       "<Figure size 432x288 with 1 Axes>"
      ]
     },
     "metadata": {
      "needs_background": "light"
     },
     "output_type": "display_data"
    }
   ],
   "source": [
    "plt.plot(bumps, [wheel_bump_to_swingarm_angle_abs(b) * pi_deg for b in bumps], label='real')\n",
    "plt.plot(bumps, [slope * b * pi_deg - (-a_swingarm_horz_rest * pi_deg) for b in bumps], label='idealized')\n",
    "plt.xlabel('Wheel bump (from rest, mm)')\n",
    "plt.ylabel('Swingarm angle (from horizontal, degrees)')\n",
    "plt.legend(loc='upper left');"
   ]
  },
  {
   "cell_type": "markdown",
   "metadata": {
    "hide_input": true
   },
   "source": [
    "# Pivot geometry\n",
    "\n",
    "We can now consider what is happening between the swingarm and spring. Let's look again at the arrangement."
   ]
  },
  {
   "cell_type": "code",
   "execution_count": 32,
   "metadata": {
    "hide_input": true
   },
   "outputs": [
    {
     "data": {
      "image/svg+xml": [
       "<svg height=\"400px\" viewBox=\"100 25 200 350\" xmlns=\"http://www.w3.org/2000/svg\">\n",
       "  <use href=\"#everything\" style=\"--vis-everything:visible; --vis-bodywork:hidden\"/>\n",
       "</svg>"
      ],
      "text/plain": [
       "<IPython.core.display.SVG object>"
      ]
     },
     "execution_count": 32,
     "metadata": {},
     "output_type": "execute_result"
    }
   ],
   "source": [
    "from string import Template\n",
    "s = Template(\"\"\"\n",
    "<svg xmlns=\"http://www.w3.org/2000/svg\" viewBox=\"100 25 200 350\" height=\"400px\">\n",
    "  <use href=\"#everything\" style=\"--vis-everything:visible; --vis-bodywork:hidden\" />\n",
    "</svg>\n",
    "\"\"\");\n",
    "\n",
    "from IPython.display import SVG\n",
    "SVG(data=s.substitute())"
   ]
  },
  {
   "cell_type": "markdown",
   "metadata": {},
   "source": [
    "The geometry here and how it relates the swingarm motion to the spring motion is relatively clear. If we remove some features and annotate the diagram:"
   ]
  },
  {
   "cell_type": "code",
   "execution_count": 33,
   "metadata": {
    "hide_input": true
   },
   "outputs": [
    {
     "data": {
      "image/svg+xml": [
       "<svg height=\"400px\" viewBox=\"100 25 200 350\" xmlns=\"http://www.w3.org/2000/svg\">\n",
       "  <defs>\n",
       "    <text id=\"dd\">250</text>\n",
       "  </defs>\n",
       "  <use href=\"#everything\" style=\"--vis-mount-top:visible; --vis-mount-front:visible; --vis-mount-swingarm:visible; --vis-geo3:visible\"/>\n",
       "</svg>"
      ],
      "text/plain": [
       "<IPython.core.display.SVG object>"
      ]
     },
     "execution_count": 33,
     "metadata": {},
     "output_type": "execute_result"
    }
   ],
   "source": [
    "from string import Template\n",
    "s = Template(\"\"\"\n",
    "<svg xmlns=\"http://www.w3.org/2000/svg\" viewBox=\"100 25 200 350\" height=\"400px\">\n",
    "  <defs>\n",
    "    <text id=\"dd\" >$dd</text>\n",
    "  </defs>\n",
    "  <use href=\"#everything\" style=\"--vis-mount-top:visible; --vis-mount-front:visible; --vis-mount-swingarm:visible; --vis-geo3:visible\" />\n",
    "</svg>\n",
    "\"\"\");\n",
    "\n",
    "from IPython.display import SVG\n",
    "SVG(data=s.substitute(\n",
    "    dd='{:.0f}'.format(d_pivot1_pivot3)\n",
    "))"
   ]
  },
  {
   "cell_type": "markdown",
   "metadata": {},
   "source": [
    "What we have is a triangle for which we know some measurements, with others for which we wish to solve. As the swingarm moves in its arc, the angle $\\alpha$ changes and in response so does the spring length $d_s$. It should be apparent from this diagram that as the angle $\\alpha$ and the swingarm pivot are coincident on the same point then any angular movement of the swingarm will have a corresponding impact on $\\alpha$. So if we know the value of $\\alpha$ while at rest then it follows we know $\\alpha$ for subsequent deflection of the swingarm and from there we can determine $d_s$"
   ]
  },
  {
   "cell_type": "code",
   "execution_count": 34,
   "metadata": {
    "hide_input": true
   },
   "outputs": [
    {
     "data": {
      "text/markdown": [
       "\n",
       "The [Law of Cosines](https://en.wikipedia.org/wiki/Law_of_cosines) can help us here. It is usually expressed as $ c^2 = a^2 + b^2 - 2ab\\, \\cos C $ where the lowercase letters denote sides of the triangle and the uppercase their opposite angles. In our case we could write this as $ d_s^2 = 250^2 + ?^2 - 2*250\\,*\\,?\\, \\cos \\alpha $.\n",
       "\n",
       "The length $d_s$ of the spring is 270 while the suspension is at rest. This leaves us with just one unknown - the distance between the swingarm pivot and the lower spring mount.\n"
      ],
      "text/plain": [
       "<IPython.core.display.Markdown object>"
      ]
     },
     "execution_count": 34,
     "metadata": {},
     "output_type": "execute_result"
    }
   ],
   "source": [
    "from string import Template\n",
    "from IPython.display import Markdown\n",
    "\n",
    "t = Template('''\n",
    "The [Law of Cosines](https://en.wikipedia.org/wiki/Law_of_cosines) can help us here. It is usually expressed as $$ c^2 = a^2 + b^2 - 2ab\\\\, \\\\cos C $$ where the lowercase letters denote sides of the triangle and the uppercase their opposite angles. In our case we could write this as $$ d_s^2 = $d_pivot1_pivot3^2 + ?^2 - 2*$d_pivot1_pivot3\\\\,*\\\\,?\\\\, \\\\cos \\\\alpha $$.\n",
    "\n",
    "The length $$d_s$$ of the spring is $d_pivot2_pivot3_rest while the suspension is at rest. This leaves us with just one unknown - the distance between the swingarm pivot and the lower spring mount.\n",
    "''')\n",
    "\n",
    "Markdown(t.substitute(\n",
    "    d_pivot1_pivot3='{:.0f}'.format(d_pivot1_pivot3),\n",
    "    d_pivot2_pivot3_rest='{:.0f}'.format(d_pivot2_pivot3_rest)\n",
    "))"
   ]
  },
  {
   "cell_type": "markdown",
   "metadata": {},
   "source": [
    "Let's look at the geometry of that mount."
   ]
  },
  {
   "cell_type": "code",
   "execution_count": 35,
   "metadata": {
    "hide_input": true
   },
   "outputs": [
    {
     "data": {
      "image/svg+xml": [
       "<svg height=\"400px\" viewBox=\"50 150 250 250\" xmlns=\"http://www.w3.org/2000/svg\">\n",
       "  <defs>\n",
       "    <text id=\"db\">50</text>\n",
       "    <text id=\"dc\">100</text>\n",
       "  </defs>\n",
       "  <use href=\"#everything\" style=\"--vis-swingarm:visible; --vis-geo2:visible\"/>\n",
       "</svg>"
      ],
      "text/plain": [
       "<IPython.core.display.SVG object>"
      ]
     },
     "execution_count": 35,
     "metadata": {},
     "output_type": "execute_result"
    }
   ],
   "source": [
    "from string import Template\n",
    "from IPython.display import SVG\n",
    "\n",
    "s = Template('''\n",
    "<svg xmlns=\"http://www.w3.org/2000/svg\" viewBox=\"50 150 250 250\" height=\"400px\">\n",
    "  <defs>\n",
    "    <text id=\"db\">$d_y_swingarm_pivot2</text>\n",
    "    <text id=\"dc\">$d_x_swingarm_pivot2</text>\n",
    "  </defs>\n",
    "  <use href=\"#everything\" style=\"--vis-swingarm:visible; --vis-geo2:visible\" />\n",
    "</svg>\n",
    "''')\n",
    "\n",
    "SVG(s.substitute(\n",
    "    d_x_swingarm_pivot2='{:.0f}'.format(d_x_swingarm_pivot2),\n",
    "    d_y_swingarm_pivot2='{:.0f}'.format(d_y_swingarm_pivot2)\n",
    "))"
   ]
  },
  {
   "cell_type": "code",
   "execution_count": 36,
   "metadata": {
    "hide_input": true
   },
   "outputs": [
    {
     "data": {
      "text/markdown": [
       "\n",
       "This is just a right triangle for which we need to solve for the hypoteneuse.\n",
       "\n",
       "So $ c^2 = a^2 + b^2 $ generally is in this case $ c^2 = 100^2 + 50^2 $ and $ c = 112 $\n"
      ],
      "text/plain": [
       "<IPython.core.display.Markdown object>"
      ]
     },
     "execution_count": 36,
     "metadata": {},
     "output_type": "execute_result"
    }
   ],
   "source": [
    "from string import Template\n",
    "from IPython.display import Markdown\n",
    "\n",
    "t = Template('''\n",
    "This is just a right triangle for which we need to solve for the hypoteneuse.\n",
    "\n",
    "So $$ c^2 = a^2 + b^2 $$ generally is in this case $$ c^2 = 100^2 + 50^2 $$ and $$ c = $d_pivot1_pivot2 $$\n",
    "''')\n",
    "\n",
    "d_pivot1_pivot2 = math.sqrt(d_x_swingarm_pivot2**2 + d_y_swingarm_pivot2**2)\n",
    "\n",
    "Markdown(t.substitute(\n",
    "    d_pivot1_pivot2='{:.0f}'.format(d_pivot1_pivot2)\n",
    "))"
   ]
  },
  {
   "cell_type": "code",
   "execution_count": 37,
   "metadata": {
    "hide_input": true
   },
   "outputs": [],
   "source": [
    "# and out of interest the included angle between swingarm centre-line and shock mount on swingarm is\n",
    "a_swingarm_pivot2 = math.atan(d_y_swingarm_pivot2 / d_x_swingarm_pivot2)"
   ]
  },
  {
   "cell_type": "code",
   "execution_count": 38,
   "metadata": {
    "hide_input": true
   },
   "outputs": [
    {
     "data": {
      "text/markdown": [
       "\n",
       "Returning to the Law of Cosines we now have: $ 270^2 = 250^2 + 112^2 - 2*250\\,*\\,112\\, \\cos \\alpha $.\n",
       "\n",
       "And we can solve for $\\alpha$ to get a value at rest of 88 degrees\n"
      ],
      "text/plain": [
       "<IPython.core.display.Markdown object>"
      ]
     },
     "execution_count": 38,
     "metadata": {},
     "output_type": "execute_result"
    }
   ],
   "source": [
    "from string import Template\n",
    "from IPython.display import Markdown\n",
    "\n",
    "t = Template('''\n",
    "Returning to the Law of Cosines we now have: $$ $d_pivot2_pivot3_rest^2 = $d_pivot1_pivot3^2 + $d_pivot1_pivot2^2 - 2*$d_pivot1_pivot3\\\\,*\\\\,$d_pivot1_pivot2\\\\, \\\\cos \\\\alpha $$.\n",
    "\n",
    "And we can solve for $$\\\\alpha$$ to get a value at rest of $a_pivot2_pivot3_rest degrees\n",
    "''')\n",
    "\n",
    "def includedAngleMountsResting():\n",
    "    a = d_pivot2_pivot3_rest\n",
    "    b = d_pivot1_pivot3\n",
    "    c = d_pivot1_pivot2\n",
    "    alpha = math.acos(((b**2) + (c**2) - (a**2)) / (2*b*c))\n",
    "    return alpha\n",
    "\n",
    "a_pivot2_pivot3_rest = includedAngleMountsResting()\n",
    "\n",
    "Markdown(t.substitute(\n",
    "    d_pivot1_pivot3='{:.0f}'.format(d_pivot1_pivot3),\n",
    "    d_pivot2_pivot3_rest='{:.0f}'.format(d_pivot2_pivot3_rest),\n",
    "    d_pivot1_pivot2='{:.0f}'.format(d_pivot1_pivot2),\n",
    "    a_pivot2_pivot3_rest='{:.0f}'.format(a_pivot2_pivot3_rest * pi_deg)\n",
    "))"
   ]
  },
  {
   "cell_type": "markdown",
   "metadata": {
    "hide_input": true
   },
   "source": [
    "# Wheel and shock motion"
   ]
  },
  {
   "cell_type": "code",
   "execution_count": 39,
   "metadata": {
    "hide_input": true
   },
   "outputs": [
    {
     "ename": "NameError",
     "evalue": "name 'deflections' is not defined",
     "output_type": "error",
     "traceback": [
      "\u001b[0;31m---------------------------------------------------------------------------\u001b[0m",
      "\u001b[0;31mNameError\u001b[0m                                 Traceback (most recent call last)",
      "\u001b[0;32m<ipython-input-39-cabedd7164a8>\u001b[0m in \u001b[0;36m<module>\u001b[0;34m\u001b[0m\n\u001b[1;32m      7\u001b[0m     \u001b[0;32mreturn\u001b[0m \u001b[0ma\u001b[0m\u001b[0;34m\u001b[0m\u001b[0m\n\u001b[1;32m      8\u001b[0m \u001b[0;34m\u001b[0m\u001b[0m\n\u001b[0;32m----> 9\u001b[0;31m \u001b[0mplt\u001b[0m\u001b[0;34m.\u001b[0m\u001b[0mplot\u001b[0m\u001b[0;34m(\u001b[0m\u001b[0mbumps\u001b[0m\u001b[0;34m,\u001b[0m \u001b[0;34m[\u001b[0m\u001b[0md_pivot2_pivot3_rest\u001b[0m \u001b[0;34m-\u001b[0m \u001b[0mdistanceBetweenMounts\u001b[0m\u001b[0;34m(\u001b[0m\u001b[0ma_pivot2_pivot3_rest\u001b[0m \u001b[0;34m-\u001b[0m \u001b[0md\u001b[0m\u001b[0;34m)\u001b[0m \u001b[0;32mfor\u001b[0m \u001b[0md\u001b[0m \u001b[0;32min\u001b[0m \u001b[0mdeflections\u001b[0m\u001b[0;34m]\u001b[0m\u001b[0;34m)\u001b[0m\u001b[0;34m;\u001b[0m\u001b[0;34m\u001b[0m\u001b[0m\n\u001b[0m\u001b[1;32m     10\u001b[0m \u001b[0mplt\u001b[0m\u001b[0;34m.\u001b[0m\u001b[0mxlabel\u001b[0m\u001b[0;34m(\u001b[0m\u001b[0;34m'Wheel bump (from rest, mm)'\u001b[0m\u001b[0;34m)\u001b[0m\u001b[0;34m\u001b[0m\u001b[0m\n\u001b[1;32m     11\u001b[0m \u001b[0mplt\u001b[0m\u001b[0;34m.\u001b[0m\u001b[0mylabel\u001b[0m\u001b[0;34m(\u001b[0m\u001b[0;34m'Shock compression (mm)'\u001b[0m\u001b[0;34m)\u001b[0m\u001b[0;34m;\u001b[0m\u001b[0;34m\u001b[0m\u001b[0m\n",
      "\u001b[0;31mNameError\u001b[0m: name 'deflections' is not defined"
     ]
    }
   ],
   "source": [
    "import matplotlib.pyplot as plt\n",
    "def distanceBetweenMounts(includedAngle):\n",
    "    b = d_pivot1_pivot3\n",
    "    c = d_pivot1_pivot2\n",
    "    alpha = includedAngle\n",
    "    a = math.sqrt((b**2) + (c**2) - (2*b*c * math.cos(alpha)))\n",
    "    return a\n",
    "\n",
    "plt.plot(bumps, [d_pivot2_pivot3_rest - distanceBetweenMounts(a_pivot2_pivot3_rest - d) for d in deflections]);\n",
    "plt.xlabel('Wheel bump (from rest, mm)')\n",
    "plt.ylabel('Shock compression (mm)');"
   ]
  }
 ],
 "metadata": {
  "kernelspec": {
   "display_name": "Python 3",
   "language": "python",
   "name": "python3"
  },
  "language_info": {
   "codemirror_mode": {
    "name": "ipython",
    "version": 3
   },
   "file_extension": ".py",
   "mimetype": "text/x-python",
   "name": "python",
   "nbconvert_exporter": "python",
   "pygments_lexer": "ipython3",
   "version": "3.5.3"
  }
 },
 "nbformat": 4,
 "nbformat_minor": 2
}
